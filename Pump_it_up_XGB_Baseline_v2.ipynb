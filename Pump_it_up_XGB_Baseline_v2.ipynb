{
  "nbformat": 4,
  "nbformat_minor": 0,
  "metadata": {
    "colab": {
      "provenance": [],
      "mount_file_id": "1vNMHTa2cx7PcEIM3LxgHYpWHLKEyickY",
      "authorship_tag": "ABX9TyM3jGcIa1Z9zv80bQJUY3Z9",
      "include_colab_link": true
    },
    "kernelspec": {
      "name": "python3",
      "display_name": "Python 3"
    },
    "language_info": {
      "name": "python"
    }
  },
  "cells": [
    {
      "cell_type": "markdown",
      "metadata": {
        "id": "view-in-github",
        "colab_type": "text"
      },
      "source": [
        "<a href=\"https://colab.research.google.com/github/hellojohnkim/mmai894/blob/main/Pump_it_up_XGB_Baseline_v2.ipynb\" target=\"_parent\"><img src=\"https://colab.research.google.com/assets/colab-badge.svg\" alt=\"Open In Colab\"/></a>"
      ]
    },
    {
      "cell_type": "code",
      "source": [
        "pip install feature_engine"
      ],
      "metadata": {
        "colab": {
          "base_uri": "https://localhost:8080/"
        },
        "id": "cAzIBsRDGgTW",
        "outputId": "86ca4b5b-25e3-4d3a-f2b5-d304c2611056"
      },
      "execution_count": 3,
      "outputs": [
        {
          "output_type": "stream",
          "name": "stdout",
          "text": [
            "Collecting feature_engine\n",
            "  Downloading feature_engine-1.6.2-py2.py3-none-any.whl (328 kB)\n",
            "\u001b[2K     \u001b[90m━━━━━━━━━━━━━━━━━━━━━━━━━━━━━━━━━━━━━━━━\u001b[0m \u001b[32m328.9/328.9 kB\u001b[0m \u001b[31m3.6 MB/s\u001b[0m eta \u001b[36m0:00:00\u001b[0m\n",
            "\u001b[?25hRequirement already satisfied: numpy>=1.18.2 in /usr/local/lib/python3.10/dist-packages (from feature_engine) (1.23.5)\n",
            "Requirement already satisfied: pandas>=1.0.3 in /usr/local/lib/python3.10/dist-packages (from feature_engine) (1.5.3)\n",
            "Requirement already satisfied: scikit-learn>=1.0.0 in /usr/local/lib/python3.10/dist-packages (from feature_engine) (1.2.2)\n",
            "Requirement already satisfied: scipy>=1.4.1 in /usr/local/lib/python3.10/dist-packages (from feature_engine) (1.11.4)\n",
            "Requirement already satisfied: statsmodels>=0.11.1 in /usr/local/lib/python3.10/dist-packages (from feature_engine) (0.14.1)\n",
            "Requirement already satisfied: python-dateutil>=2.8.1 in /usr/local/lib/python3.10/dist-packages (from pandas>=1.0.3->feature_engine) (2.8.2)\n",
            "Requirement already satisfied: pytz>=2020.1 in /usr/local/lib/python3.10/dist-packages (from pandas>=1.0.3->feature_engine) (2023.3.post1)\n",
            "Requirement already satisfied: joblib>=1.1.1 in /usr/local/lib/python3.10/dist-packages (from scikit-learn>=1.0.0->feature_engine) (1.3.2)\n",
            "Requirement already satisfied: threadpoolctl>=2.0.0 in /usr/local/lib/python3.10/dist-packages (from scikit-learn>=1.0.0->feature_engine) (3.2.0)\n",
            "Requirement already satisfied: patsy>=0.5.4 in /usr/local/lib/python3.10/dist-packages (from statsmodels>=0.11.1->feature_engine) (0.5.6)\n",
            "Requirement already satisfied: packaging>=21.3 in /usr/local/lib/python3.10/dist-packages (from statsmodels>=0.11.1->feature_engine) (23.2)\n",
            "Requirement already satisfied: six in /usr/local/lib/python3.10/dist-packages (from patsy>=0.5.4->statsmodels>=0.11.1->feature_engine) (1.16.0)\n",
            "Installing collected packages: feature_engine\n",
            "Successfully installed feature_engine-1.6.2\n"
          ]
        }
      ]
    },
    {
      "cell_type": "code",
      "source": [
        "# Import libraries\n",
        "import pandas as pd\n",
        "import hyperopt\n",
        "import numpy as np\n",
        "import matplotlib.pyplot as plt\n",
        "import datetime\n",
        "from sklearn.model_selection import train_test_split\n",
        "from sklearn.pipeline import Pipeline\n",
        "from sklearn.preprocessing import OneHotEncoder\n",
        "import matplotlib.pyplot as plt\n",
        "import seaborn as sns\n",
        "from hyperopt import hp, fmin, tpe, STATUS_OK, Trials\n",
        "# for feature engineering\n",
        "from sklearn.preprocessing import StandardScaler\n",
        "from feature_engine import imputation as mdi\n",
        "from feature_engine import discretisation as dsc\n",
        "from feature_engine import encoding as ce\n",
        "from feature_engine.selection import (\n",
        "    DropConstantFeatures,\n",
        "    DropDuplicateFeatures,\n",
        "    SmartCorrelatedSelection,\n",
        ")\n",
        "from sklearn.impute import KNNImputer\n",
        "from feature_engine.imputation import CategoricalImputer\n",
        "from feature_engine.outliers import Winsorizer\n",
        "from feature_engine.encoding import CountFrequencyEncoder\n",
        "from sklearn.preprocessing import MinMaxScaler\n",
        "from feature_engine.outliers import Winsorizer\n",
        "from sklearn.impute import SimpleImputer\n",
        "from sklearn.ensemble import RandomForestRegressor, RandomForestClassifier\n",
        "from sklearn.metrics import roc_auc_score, r2_score, f1_score\n",
        "from itertools import combinations\n",
        "import pickle\n",
        "\n",
        "pd.set_option('display.max_columns', None)\n",
        "from sklearn.ensemble import RandomForestRegressor\n",
        "from sklearn.model_selection import cross_val_score\n",
        "from sklearn.linear_model import LinearRegression, Ridge, Lasso\n",
        "from sklearn.ensemble import RandomForestRegressor, GradientBoostingRegressor\n",
        "import xgboost as xgb\n",
        "from sklearn.svm import SVR\n",
        "from sklearn.model_selection import train_test_split\n",
        "from sklearn.metrics import mean_squared_error\n",
        "from sklearn.metrics import mean_absolute_error\n",
        "from hyperopt import hp, tpe, Trials\n",
        "import hyperopt\n",
        "from hyperopt.fmin import generate_trials_to_calculate\n",
        "from functools import partial\n",
        "import warnings, os\n",
        "from sklearn.base import BaseEstimator, TransformerMixin\n",
        "from sklearn.pipeline import Pipeline\n",
        "import xgboost as xgb\n",
        "from sklearn.model_selection import cross_val_score\n",
        "\n",
        "warnings.filterwarnings(\"ignore\")"
      ],
      "metadata": {
        "id": "65vWvm-ZGHt0"
      },
      "execution_count": 1,
      "outputs": []
    },
    {
      "cell_type": "code",
      "source": [
        "def warn(*args, **kwargs):\n",
        "    pass\n",
        "import warnings\n",
        "warnings.warn = warn"
      ],
      "metadata": {
        "id": "ccPpyCghGo2D"
      },
      "execution_count": 2,
      "outputs": []
    },
    {
      "cell_type": "markdown",
      "source": [
        "##Pump It Up Faulty Water Pump Prediction Model\n"
      ],
      "metadata": {
        "id": "CaloidJpXoIO"
      }
    },
    {
      "cell_type": "code",
      "source": [
        "from google.colab import drive\n",
        "drive.mount('/content/drive/')"
      ],
      "metadata": {
        "colab": {
          "base_uri": "https://localhost:8080/"
        },
        "id": "WGMK3GGpHrs1",
        "outputId": "61976a86-b632-42af-ad84-c962bbf0cd5d"
      },
      "execution_count": 3,
      "outputs": [
        {
          "output_type": "stream",
          "name": "stdout",
          "text": [
            "Drive already mounted at /content/drive/; to attempt to forcibly remount, call drive.mount(\"/content/drive/\", force_remount=True).\n"
          ]
        }
      ]
    },
    {
      "cell_type": "markdown",
      "source": [
        "#Data Loading"
      ],
      "metadata": {
        "id": "P1rDzc_2YTAY"
      }
    },
    {
      "cell_type": "code",
      "source": [
        "#Load files\n",
        "data_path = '/content/drive/MyDrive/MMAI_Group/894_team/DrivenData_Competition/data/'\n",
        "#For train set, merge the values and label on id\n",
        "train = pd.merge(pd.read_csv(data_path + 'training_set_values.csv'), pd.read_csv(data_path + 'training_set_label.csv'), on=['id'])\n",
        "test = pd.read_csv(data_path + 'test_set.csv')\n",
        "train.info()\n",
        "test.info()"
      ],
      "metadata": {
        "colab": {
          "base_uri": "https://localhost:8080/"
        },
        "id": "IcRkDDUjGcN6",
        "outputId": "4200ce57-6864-434c-9da9-c490045bc45e"
      },
      "execution_count": 6,
      "outputs": [
        {
          "output_type": "stream",
          "name": "stdout",
          "text": [
            "<class 'pandas.core.frame.DataFrame'>\n",
            "Int64Index: 59400 entries, 0 to 59399\n",
            "Data columns (total 41 columns):\n",
            " #   Column                 Non-Null Count  Dtype  \n",
            "---  ------                 --------------  -----  \n",
            " 0   id                     59400 non-null  int64  \n",
            " 1   amount_tsh             59400 non-null  float64\n",
            " 2   date_recorded          59400 non-null  object \n",
            " 3   funder                 55765 non-null  object \n",
            " 4   gps_height             59400 non-null  int64  \n",
            " 5   installer              55745 non-null  object \n",
            " 6   longitude              59400 non-null  float64\n",
            " 7   latitude               59400 non-null  float64\n",
            " 8   wpt_name               59400 non-null  object \n",
            " 9   num_private            59400 non-null  int64  \n",
            " 10  basin                  59400 non-null  object \n",
            " 11  subvillage             59029 non-null  object \n",
            " 12  region                 59400 non-null  object \n",
            " 13  region_code            59400 non-null  int64  \n",
            " 14  district_code          59400 non-null  int64  \n",
            " 15  lga                    59400 non-null  object \n",
            " 16  ward                   59400 non-null  object \n",
            " 17  population             59400 non-null  int64  \n",
            " 18  public_meeting         56066 non-null  object \n",
            " 19  recorded_by            59400 non-null  object \n",
            " 20  scheme_management      55523 non-null  object \n",
            " 21  scheme_name            31234 non-null  object \n",
            " 22  permit                 56344 non-null  object \n",
            " 23  construction_year      59400 non-null  int64  \n",
            " 24  extraction_type        59400 non-null  object \n",
            " 25  extraction_type_group  59400 non-null  object \n",
            " 26  extraction_type_class  59400 non-null  object \n",
            " 27  management             59400 non-null  object \n",
            " 28  management_group       59400 non-null  object \n",
            " 29  payment                59400 non-null  object \n",
            " 30  payment_type           59400 non-null  object \n",
            " 31  water_quality          59400 non-null  object \n",
            " 32  quality_group          59400 non-null  object \n",
            " 33  quantity               59400 non-null  object \n",
            " 34  quantity_group         59400 non-null  object \n",
            " 35  source                 59400 non-null  object \n",
            " 36  source_type            59400 non-null  object \n",
            " 37  source_class           59400 non-null  object \n",
            " 38  waterpoint_type        59400 non-null  object \n",
            " 39  waterpoint_type_group  59400 non-null  object \n",
            " 40  status_group           59400 non-null  object \n",
            "dtypes: float64(3), int64(7), object(31)\n",
            "memory usage: 19.0+ MB\n",
            "<class 'pandas.core.frame.DataFrame'>\n",
            "RangeIndex: 14850 entries, 0 to 14849\n",
            "Data columns (total 40 columns):\n",
            " #   Column                 Non-Null Count  Dtype  \n",
            "---  ------                 --------------  -----  \n",
            " 0   id                     14850 non-null  int64  \n",
            " 1   amount_tsh             14850 non-null  float64\n",
            " 2   date_recorded          14850 non-null  object \n",
            " 3   funder                 13981 non-null  object \n",
            " 4   gps_height             14850 non-null  int64  \n",
            " 5   installer              13973 non-null  object \n",
            " 6   longitude              14850 non-null  float64\n",
            " 7   latitude               14850 non-null  float64\n",
            " 8   wpt_name               14850 non-null  object \n",
            " 9   num_private            14850 non-null  int64  \n",
            " 10  basin                  14850 non-null  object \n",
            " 11  subvillage             14751 non-null  object \n",
            " 12  region                 14850 non-null  object \n",
            " 13  region_code            14850 non-null  int64  \n",
            " 14  district_code          14850 non-null  int64  \n",
            " 15  lga                    14850 non-null  object \n",
            " 16  ward                   14850 non-null  object \n",
            " 17  population             14850 non-null  int64  \n",
            " 18  public_meeting         14029 non-null  object \n",
            " 19  recorded_by            14850 non-null  object \n",
            " 20  scheme_management      13881 non-null  object \n",
            " 21  scheme_name            7758 non-null   object \n",
            " 22  permit                 14113 non-null  object \n",
            " 23  construction_year      14850 non-null  int64  \n",
            " 24  extraction_type        14850 non-null  object \n",
            " 25  extraction_type_group  14850 non-null  object \n",
            " 26  extraction_type_class  14850 non-null  object \n",
            " 27  management             14850 non-null  object \n",
            " 28  management_group       14850 non-null  object \n",
            " 29  payment                14850 non-null  object \n",
            " 30  payment_type           14850 non-null  object \n",
            " 31  water_quality          14850 non-null  object \n",
            " 32  quality_group          14850 non-null  object \n",
            " 33  quantity               14850 non-null  object \n",
            " 34  quantity_group         14850 non-null  object \n",
            " 35  source                 14850 non-null  object \n",
            " 36  source_type            14850 non-null  object \n",
            " 37  source_class           14850 non-null  object \n",
            " 38  waterpoint_type        14850 non-null  object \n",
            " 39  waterpoint_type_group  14850 non-null  object \n",
            "dtypes: float64(3), int64(7), object(30)\n",
            "memory usage: 4.5+ MB\n"
          ]
        }
      ]
    },
    {
      "cell_type": "code",
      "source": [
        "X = train[train.columns[:-1]]\n",
        "y = train['status_group']"
      ],
      "metadata": {
        "id": "oz01plLwJe1o"
      },
      "execution_count": 18,
      "outputs": []
    },
    {
      "cell_type": "code",
      "source": [
        "y.info()"
      ],
      "metadata": {
        "colab": {
          "base_uri": "https://localhost:8080/"
        },
        "id": "DujZCjTLLWRX",
        "outputId": "4116d783-fbfa-4620-bb64-ff2d467da217"
      },
      "execution_count": 10,
      "outputs": [
        {
          "output_type": "stream",
          "name": "stdout",
          "text": [
            "<class 'pandas.core.series.Series'>\n",
            "Int64Index: 59400 entries, 0 to 59399\n",
            "Series name: status_group\n",
            "Non-Null Count  Dtype \n",
            "--------------  ----- \n",
            "59400 non-null  object\n",
            "dtypes: object(1)\n",
            "memory usage: 928.1+ KB\n"
          ]
        }
      ]
    },
    {
      "cell_type": "markdown",
      "source": [
        "#Data Pre-Processing & Feature Engineering"
      ],
      "metadata": {
        "id": "bkR9TqckYega"
      }
    },
    {
      "cell_type": "code",
      "source": [
        "from datetime import datetime\n",
        "# Calculate 'age'\n",
        "current_year = datetime.now().year\n",
        "for dataset in [X, test]:\n",
        "    dataset['age'] = current_year - dataset['construction_year']\n",
        "    dataset['age'].replace({current_year: np.nan}, inplace=True)  # Replace invalid ages with NaN\n",
        "\n",
        "X.drop(['construction_year'], axis=1, inplace=True)\n",
        "test.drop(['construction_year'], axis=1, inplace=True)"
      ],
      "metadata": {
        "id": "IhWtLvPTLEo2"
      },
      "execution_count": 19,
      "outputs": []
    },
    {
      "cell_type": "code",
      "source": [
        "class FrequencyEncoder(BaseEstimator, TransformerMixin):\n",
        "    def __init__(self, single_columns=None, multi_columns=None):\n",
        "        self.single_columns = single_columns if single_columns is not None else []\n",
        "        self.multi_columns = multi_columns if multi_columns is not None else []\n",
        "        self.freq_maps = {}\n",
        "\n",
        "    def fit(self, X, y=None):\n",
        "        # Single column frequency encoding\n",
        "        for col in self.single_columns:\n",
        "            self.freq_maps[col] = X[col].value_counts().to_dict()\n",
        "\n",
        "        # Multi-column frequency encoding\n",
        "        for cols in self.multi_columns:\n",
        "            grouped = X.groupby(list(cols)).size()\n",
        "            self.freq_maps[tuple(cols)] = {index: count for index, count in grouped.iteritems()}\n",
        "\n",
        "        return self\n",
        "\n",
        "    def transform(self, X):\n",
        "        X_transformed = X.copy()\n",
        "        # Apply single column frequency encoding\n",
        "        for col in self.single_columns:\n",
        "            X_transformed[col + '_Freq'] = X_transformed[col].map(self.freq_maps[col])\n",
        "\n",
        "        # Apply multi-column frequency encoding\n",
        "        for cols in self.multi_columns:\n",
        "            col_name = '_'.join(cols) + '_Freq'\n",
        "            X_transformed[col_name] = X_transformed[list(cols)].apply(\n",
        "                lambda row: self.freq_maps[tuple(cols)].get(tuple(row), 0), axis=1)\n",
        "\n",
        "        return X_transformed\n"
      ],
      "metadata": {
        "id": "0BLrq9EOJwrG"
      },
      "execution_count": 20,
      "outputs": []
    },
    {
      "cell_type": "code",
      "source": [
        "class ColumnDropper(BaseEstimator, TransformerMixin):\n",
        "    def __init__(self, columns_to_drop):\n",
        "        self.columns_to_drop = columns_to_drop\n",
        "\n",
        "    def fit(self, X, y=None):\n",
        "        return self\n",
        "\n",
        "    def transform(self, X):\n",
        "        X_transformed = X.drop(self.columns_to_drop, axis=1)\n",
        "        return X_transformed"
      ],
      "metadata": {
        "id": "WILGVc-yKge-"
      },
      "execution_count": 21,
      "outputs": []
    },
    {
      "cell_type": "code",
      "source": [
        "def preprocess_dataset(X):\n",
        "    # Store the 'ID' column\n",
        "    X_id = X['id']\n",
        "    # Temporarily remove the 'ID' column\n",
        "    X = X.drop(['id'], axis=1)\n",
        "\n",
        "    # One-Hot Encoding for categorical variables\n",
        "    obj_columns = X.select_dtypes(include='object').columns.tolist()\n",
        "    encoder = OneHotEncoder(sparse=False, handle_unknown='ignore')\n",
        "    X_encoded = encoder.fit_transform(X[obj_columns])\n",
        "    with open('encoder.pkl', 'wb') as file:\n",
        "        pickle.dump(encoder, file)\n",
        "\n",
        "    # Convert encoded data back to DataFrame\n",
        "    encoded_col_names = encoder.get_feature_names_out(obj_columns)\n",
        "    X_encoded_df = pd.DataFrame(X_encoded, columns=encoded_col_names)\n",
        "\n",
        "    X_preprocessed = pd.concat([X, X_encoded_df], axis=1)\n",
        "\n",
        "    # Add 'ID' back to the front of the DataFrame\n",
        "    X_preprocessed.insert(0, 'id', X_id.reset_index(drop=True))\n",
        "\n",
        "    return X_preprocessed\n",
        "\n",
        "# Apply the preprocessing to the entire dataset\n",
        "X_train_preprocessed = preprocess_dataset(X)"
      ],
      "metadata": {
        "id": "qVilrOnAME9i"
      },
      "execution_count": null,
      "outputs": []
    },
    {
      "cell_type": "markdown",
      "source": [
        "#XGB Baseline Model"
      ],
      "metadata": {
        "id": "6fv8P8FkZLfp"
      }
    },
    {
      "cell_type": "code",
      "source": [
        "# Importing necessary libraries\n",
        "from sklearn.model_selection import train_test_split\n",
        "from xgboost import XGBClassifier\n",
        "from sklearn.metrics import classification_report, accuracy_score\n",
        "import pandas as pd\n",
        "\n",
        "# Creating a baseline XGBoost model\n",
        "xgb_baseline = XGBClassifier(random_state=42)\n",
        "\n",
        "# Retraining the XGBoost model with the re-processed data\n",
        "xgb_baseline.fit(X_train, y_train_labels)\n",
        "\n",
        "# Making predictions on the validation set\n",
        "y_val_pred = xgb_baseline.predict(X_val)\n",
        "\n",
        "# Recalculating baseline performance\n",
        "accuracy_val = accuracy_score(y_val_labels, y_val_pred)\n",
        "classification_rep_val = classification_report(y_val_labels, y_val_pred, output_dict=True)\n",
        "\n",
        "# Convert the classification report to a DataFrame\n",
        "classification_report_df = pd.DataFrame(classification_rep_val).transpose()\n",
        "\n",
        "# Display the classification report and accuracy\n",
        "print(classification_report_df)\n",
        "print(f\"Validation Accuracy: {accuracy_val:.4f}\")\n",
        "\n"
      ],
      "metadata": {
        "colab": {
          "base_uri": "https://localhost:8080/"
        },
        "id": "ypJt0qYOKiJl",
        "outputId": "68b20367-c3bb-4ecd-9b7f-0015856a628d"
      },
      "execution_count": null,
      "outputs": [
        {
          "output_type": "stream",
          "name": "stdout",
          "text": [
            "              precision    recall  f1-score       support\n",
            "0              0.764198  0.904445  0.828428   6457.000000\n",
            "1              0.565350  0.218566  0.315254    851.000000\n",
            "2              0.833461  0.712598  0.768306   4572.000000\n",
            "accuracy       0.781481  0.781481  0.781481      0.781481\n",
            "macro avg      0.721003  0.611870  0.637329  11880.000000\n",
            "weighted avg   0.776610  0.781481  0.768530  11880.000000\n",
            "Validation Accuracy: 0.7815\n"
          ]
        }
      ]
    },
    {
      "cell_type": "markdown",
      "source": [
        "#XGB Baseline + Hyperparameter Tuning"
      ],
      "metadata": {
        "id": "iis4BsAfZQTb"
      }
    },
    {
      "cell_type": "code",
      "source": [
        "# Tweaking hyperparameters of the XGBoost model\n",
        "xgb_tweaked = XGBClassifier(\n",
        "    n_estimators=1000,  # Increasing the number of trees\n",
        "    learning_rate=0.1,  # Adjusting learning rate\n",
        "    max_depth=8,  # Setting a maximum depth for trees\n",
        "    subsample=0.8,  # Using 80% of data for fitting individual trees\n",
        "    colsample_bytree=0.8,  # Using 80% of features for constructing each tree\n",
        "    random_state=42\n",
        ")\n",
        "\n",
        "# Retraining the model with tweaked hyperparameters\n",
        "xgb_tweaked.fit(X_train, y_train_labels)\n",
        "\n",
        "# Making predictions on the validation set with the tweaked model\n",
        "y_val_pred_tweaked = xgb_tweaked.predict(X_val)\n",
        "\n",
        "# Recalculating performance with the tweaked model\n",
        "accuracy_val_tweaked = accuracy_score(y_val_labels, y_val_pred_tweaked)\n",
        "classification_rep_val_tweaked = classification_report(y_val_labels, y_val_pred_tweaked, output_dict=True)\n",
        "\n",
        "# Convert the classification report to a DataFrame\n",
        "classification_report_df = pd.DataFrame(classification_rep_val_tweaked).transpose()\n",
        "\n",
        "# Display the classification report and accuracy\n",
        "print(classification_report_df)\n",
        "print(f\"Validation Accuracy: {accuracy_val_tweaked:.4f}\")\n",
        "\n"
      ],
      "metadata": {
        "colab": {
          "base_uri": "https://localhost:8080/"
        },
        "id": "LHBn-PwRLift",
        "outputId": "0485c766-dfcb-4f90-9be0-6b44ad99e87c"
      },
      "execution_count": null,
      "outputs": [
        {
          "output_type": "stream",
          "name": "stdout",
          "text": [
            "              precision    recall  f1-score       support\n",
            "0              0.792069  0.875484  0.831690   6457.000000\n",
            "1              0.484902  0.320799  0.386139    851.000000\n",
            "2              0.824641  0.753937  0.787706   4572.000000\n",
            "accuracy       0.788973  0.788973  0.788973      0.788973\n",
            "macro avg      0.700538  0.650073  0.668512  11880.000000\n",
            "weighted avg   0.782601  0.788973  0.782847  11880.000000\n",
            "Validation Accuracy: 0.7890\n"
          ]
        }
      ]
    },
    {
      "cell_type": "markdown",
      "source": [
        "still need to submit to driven data and get test results\n",
        "\n",
        "### Baseline Model: XGBoost with Tweaked Hyperparameters\n",
        "\n",
        "**Model Configuration:**\n",
        "- **n_estimators**: 1000 (Number of trees increased)\n",
        "- **learning_rate**: 0.1\n",
        "- **max_depth**: 8\n",
        "- **subsample**: 0.8 (80% of data used for fitting individual trees)\n",
        "- **colsample_bytree**: 0.8 (80% of features used for constructing each tree)\n",
        "- **random_state**: 42\n",
        "\n",
        "**Model Performance on Validation Set:**\n",
        "- **Accuracy**: 80.61%\n",
        "\n",
        "**Classification Report:**\n",
        "\n",
        "| Class | Precision | Recall  | F1-Score | Support    |\n",
        "|-------|-----------|---------|----------|------------|\n",
        "| 0     | 0.8033    | 0.8936  | 0.8460   | 6457.000   |\n",
        "| 1     | 0.5575    | 0.3020  | 0.3918   |  851.000   |\n",
        "| 2     | 0.8378    | 0.7762  | 0.8059   | 4572.000   |\n",
        "| **Overall** | | | | **11880.000** |\n",
        "\n",
        "- **Macro Avg Precision**: 73.29%\n",
        "- **Weighted Avg Precision**: 79.90%\n",
        "- **Macro Avg F1-Score**: 68.12%\n",
        "- **Weighted Avg F1-Score**: 79.80%\n",
        "\n",
        "**Analysis:**\n",
        "- The model shows a high accuracy of 80.61%, indicating strong overall performance.\n",
        "- Precision, recall, and F1-score vary significantly across different classes. Class 0 shows the highest precision and recall, whereas class 1 has the lowest scores, indicating potential issues with class imbalance or model's ability to generalize for this class.\n",
        "- The difference in performance across classes suggests a need to further investigate class-specific features or consider techniques to handle imbalanced classes.\n",
        "- The substantial difference between macro and weighted averages points to the influence of class imbalance on the model's performance."
      ],
      "metadata": {
        "id": "MpbUdb0cQobY"
      }
    },
    {
      "cell_type": "markdown",
      "source": [
        "#Feature Importance (not required)"
      ],
      "metadata": {
        "id": "xMV7aju56cpg"
      }
    },
    {
      "cell_type": "code",
      "source": [
        "import matplotlib.pyplot as plt\n",
        "\n",
        "# Get feature importance\n",
        "feature_importances = xgb_tweaked.feature_importances_\n",
        "\n",
        "# Get column names from the training values dataset\n",
        "feature_names = training_values.columns\n",
        "\n",
        "# Create a DataFrame for easy visualization\n",
        "importance_df = pd.DataFrame({'Feature': feature_names, 'Importance': feature_importances})\n",
        "\n",
        "# Sort the DataFrame by importance\n",
        "importance_df = importance_df.sort_values(by='Importance', ascending=False)\n",
        "\n",
        "# Plotting\n",
        "plt.figure(figsize=(10, 8))\n",
        "plt.barh(importance_df['Feature'], importance_df['Importance'])\n",
        "plt.xlabel('Importance')\n",
        "plt.ylabel('Feature')\n",
        "plt.title('Feature Importance in Tweaked XGBoost Model')\n",
        "plt.gca().invert_yaxis()  # To display the highest importance at the top\n",
        "plt.show()\n"
      ],
      "metadata": {
        "colab": {
          "base_uri": "https://localhost:8080/",
          "height": 524
        },
        "id": "_W1hqUXumZkx",
        "outputId": "086cb29b-e218-4ce8-b0af-0146b1a8a349"
      },
      "execution_count": null,
      "outputs": [
        {
          "output_type": "display_data",
          "data": {
            "text/plain": [
              "<Figure size 1000x800 with 1 Axes>"
            ],
            "image/png": "[encoded data removed]"
          },
          "metadata": {}
        }
      ]
    },
    {
      "cell_type": "markdown",
      "source": [
        "#Creating submission file"
      ],
      "metadata": {
        "id": "YNzx5RqN6XfC"
      }
    },
    {
      "cell_type": "code",
      "source": [
        "# Making predictions on the test set\n",
        "test_predictions = xgb_tweaked.predict(X_test_processed)\n",
        "\n",
        "# label names in the original dataset are 'functional', 'non functional', and 'functional needs repair'\n",
        "label_names = ['functional', 'non functional', 'functional needs repair']\n",
        "\n",
        "# Transform the class indices (0, 1, 2) back to original class names\n",
        "test_predictions_labels = [label_names[index] for index in test_predictions]\n",
        "\n",
        "# Creating a DataFrame for submission\n",
        "submission_df = pd.DataFrame({\n",
        "    'id': test_values['id'],  # Assuming 'id' column is present in test_values\n",
        "    'status_group': test_predictions_labels\n",
        "})\n",
        "\n",
        "# Display the first few rows of the DataFrame\n",
        "print(submission_df.head())\n"
      ],
      "metadata": {
        "colab": {
          "base_uri": "https://localhost:8080/"
        },
        "id": "lqlBq-ZcptpT",
        "outputId": "c6a1dfdd-e666-47b4-917d-2cbc2c386cd7"
      },
      "execution_count": null,
      "outputs": [
        {
          "output_type": "stream",
          "name": "stdout",
          "text": [
            "      id             status_group\n",
            "0  50785  functional needs repair\n",
            "1  51630               functional\n",
            "2  17168               functional\n",
            "3  45559  functional needs repair\n",
            "4  49871               functional\n"
          ]
        }
      ]
    },
    {
      "cell_type": "code",
      "source": [
        "\n",
        "# Saving the DataFrame to a CSV file\n",
        "submission_df.to_csv('/content/drive/MyDrive/MMAI_Group/894_team/DrivenData_Competition/notebooks/John/SubmissionFormat.csv', index=False)"
      ],
      "metadata": {
        "id": "DB0LKFQKwWy6"
      },
      "execution_count": null,
      "outputs": []
    }
  ]
}