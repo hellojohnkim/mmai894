{
  "nbformat": 4,
  "nbformat_minor": 0,
  "metadata": {
    "colab": {
      "provenance": [],
      "include_colab_link": true
    },
    "kernelspec": {
      "name": "python3",
      "display_name": "Python 3"
    },
    "language_info": {
      "name": "python"
    }
  },
  "cells": [
    {
      "cell_type": "markdown",
      "metadata": {
        "id": "view-in-github",
        "colab_type": "text"
      },
      "source": [
        "<a href=\"https://colab.research.google.com/github/hellojohnkim/mmai894/blob/main/Pump_it_up_XGB_Baseline.ipynb\" target=\"_parent\"><img src=\"https://colab.research.google.com/assets/colab-badge.svg\" alt=\"Open In Colab\"/></a>"
      ]
    },
    {
      "cell_type": "code",
      "source": [
        "import pandas as pd\n",
        "from sklearn.model_selection import train_test_split\n",
        "from sklearn.preprocessing import OneHotEncoder\n",
        "from sklearn.compose import ColumnTransformer\n",
        "from sklearn.pipeline import Pipeline\n",
        "from xgboost import XGBClassifier\n",
        "from sklearn.model_selection import cross_val_score\n",
        "from hyperopt import hp, fmin, tpe, STATUS_OK, Trials, atpe\n",
        "from sklearn.metrics import accuracy_score\n",
        "from sklearn.preprocessing import LabelEncoder\n",
        "from sklearn.metrics import f1_score\n",
        "from sklearn.metrics import classification_report\n",
        "from sklearn.metrics import confusion_matrix\n",
        "import matplotlib.pyplot as plt\n",
        "import seaborn as sns\n",
        "import numpy as np"
      ],
      "metadata": {
        "id": "tlfiocXYVyce"
      },
      "execution_count": null,
      "outputs": []
    },
    {
      "cell_type": "markdown",
      "source": [
        "##Pump It Up Faulty Water Pump Prediction Model"
      ],
      "metadata": {
        "id": "CaloidJpXoIO"
      }
    },
    {
      "cell_type": "markdown",
      "source": [
        "#Data Loading"
      ],
      "metadata": {
        "id": "P1rDzc_2YTAY"
      }
    },
    {
      "cell_type": "code",
      "source": [
        "# Specifying the datasets file paths\n",
        "training_set_values_file_path = '/content/drive/MyDrive/MMAI_Group/894_team/DrivenData_Competition/data/training_set_values.csv'\n",
        "training_set_labels_file_path = '/content/drive/MyDrive/MMAI_Group/894_team/DrivenData_Competition/data/training_set_label.csv'\n",
        "test_set_file_path = '/content/drive/MyDrive/MMAI_Group/894_team/DrivenData_Competition/data/test_set.csv'\n",
        "\n",
        "# Loading the datasets\n",
        "features_df = pd.read_csv(training_set_values_file_path)\n",
        "labels_df = pd.read_csv(training_set_labels_file_path)\n",
        "test = pd.read_csv(test_set_file_path)\n",
        "\n",
        "# Displaying the first few rows of the datasets\n",
        "features_df.info()"
      ],
      "metadata": {
        "colab": {
          "base_uri": "https://localhost:8080/"
        },
        "id": "IcRkDDUjGcN6",
        "outputId": "84df4f0e-cbfe-4f6a-937a-c4ff118c4362"
      },
      "execution_count": 10,
      "outputs": [
        {
          "output_type": "stream",
          "name": "stdout",
          "text": [
            "<class 'pandas.core.frame.DataFrame'>\n",
            "RangeIndex: 59400 entries, 0 to 59399\n",
            "Data columns (total 40 columns):\n",
            " #   Column                 Non-Null Count  Dtype  \n",
            "---  ------                 --------------  -----  \n",
            " 0   id                     59400 non-null  int64  \n",
            " 1   amount_tsh             59400 non-null  float64\n",
            " 2   date_recorded          59400 non-null  object \n",
            " 3   funder                 55765 non-null  object \n",
            " 4   gps_height             59400 non-null  int64  \n",
            " 5   installer              55745 non-null  object \n",
            " 6   longitude              59400 non-null  float64\n",
            " 7   latitude               59400 non-null  float64\n",
            " 8   wpt_name               59400 non-null  object \n",
            " 9   num_private            59400 non-null  int64  \n",
            " 10  basin                  59400 non-null  object \n",
            " 11  subvillage             59029 non-null  object \n",
            " 12  region                 59400 non-null  object \n",
            " 13  region_code            59400 non-null  int64  \n",
            " 14  district_code          59400 non-null  int64  \n",
            " 15  lga                    59400 non-null  object \n",
            " 16  ward                   59400 non-null  object \n",
            " 17  population             59400 non-null  int64  \n",
            " 18  public_meeting         56066 non-null  object \n",
            " 19  recorded_by            59400 non-null  object \n",
            " 20  scheme_management      55523 non-null  object \n",
            " 21  scheme_name            31234 non-null  object \n",
            " 22  permit                 56344 non-null  object \n",
            " 23  construction_year      59400 non-null  int64  \n",
            " 24  extraction_type        59400 non-null  object \n",
            " 25  extraction_type_group  59400 non-null  object \n",
            " 26  extraction_type_class  59400 non-null  object \n",
            " 27  management             59400 non-null  object \n",
            " 28  management_group       59400 non-null  object \n",
            " 29  payment                59400 non-null  object \n",
            " 30  payment_type           59400 non-null  object \n",
            " 31  water_quality          59400 non-null  object \n",
            " 32  quality_group          59400 non-null  object \n",
            " 33  quantity               59400 non-null  object \n",
            " 34  quantity_group         59400 non-null  object \n",
            " 35  source                 59400 non-null  object \n",
            " 36  source_type            59400 non-null  object \n",
            " 37  source_class           59400 non-null  object \n",
            " 38  waterpoint_type        59400 non-null  object \n",
            " 39  waterpoint_type_group  59400 non-null  object \n",
            "dtypes: float64(3), int64(7), object(30)\n",
            "memory usage: 18.1+ MB\n"
          ]
        }
      ]
    },
    {
      "cell_type": "code",
      "source": [
        "from google.colab import drive\n",
        "drive.mount('/content/drive')"
      ],
      "metadata": {
        "colab": {
          "base_uri": "https://localhost:8080/"
        },
        "id": "zGYcCSo4uQIa",
        "outputId": "9414f8a2-bc80-4cd0-9483-a6fd0f59d5aa"
      },
      "execution_count": null,
      "outputs": [
        {
          "output_type": "stream",
          "name": "stdout",
          "text": [
            "Mounted at /content/drive\n"
          ]
        }
      ]
    },
    {
      "cell_type": "markdown",
      "source": [
        "#Data Pre-Processing"
      ],
      "metadata": {
        "id": "bkR9TqckYega"
      }
    },
    {
      "cell_type": "code",
      "source": [
        "# Merge the data on id\n",
        "data_df = features_df.merge(labels_df, on='id')\n",
        "\n",
        "# Encode 'construction_year' as a cyclical feature\n",
        "max_year = data_df['construction_year'].max()\n",
        "data_df['construction_year_sin'] = np.sin(2 * np.pi * data_df['construction_year'] / max_year)\n",
        "data_df['construction_year_cos'] = np.cos(2 * np.pi * data_df['construction_year'] / max_year)\n",
        "\n",
        "# Calculate 'age'\n",
        "current_year = datetime.now().year\n",
        "data_df['age'] = current_year - data_df['construction_year']\n",
        "data_df['age'].replace({current_year: np.nan}, inplace=True)  # Replace invalid ages with NaN\n",
        "data_df.drop(['construction_year'], axis=1, inplace=True)  # Drop original 'construction_year'\n",
        "\n",
        "# Date feature transformation\n",
        "data_df['date_recorded'] = pd.to_datetime(data_df['date_recorded'])\n",
        "data_df['year_recorded'] = data_df['date_recorded'].dt.year\n",
        "data_df['month_recorded'] = data_df['date_recorded'].dt.month\n",
        "data_df['day_recorded'] = data_df['date_recorded'].dt.day\n",
        "data_df['days_since_recorded'] = (data_df['date_recorded'] - data_df['date_recorded'].min()).dt.days\n",
        "data_df.drop('date_recorded', axis=1, inplace=True)\n",
        "\n",
        "# Handling categorical variables\n",
        "categorical_cols = data_df.select_dtypes(include=['object', 'category']).columns.tolist()\n",
        "categorical_cols.remove('status_group')\n",
        "categorical_cols.extend(['region_code', 'district_code'])  # Include region and district codes as categorical\n",
        "\n",
        "preprocessor = ColumnTransformer(\n",
        "    transformers=[\n",
        "        ('onehot', OneHotEncoder(handle_unknown='ignore'), categorical_cols)\n",
        "    ])\n",
        "\n",
        "X = data_df.drop('status_group', axis=1)\n",
        "y = data_df['status_group']\n",
        "\n",
        "pipeline = Pipeline([\n",
        "    ('preprocessor', preprocessor),\n",
        "    ('xgb', XGBClassifier(eval_metric='mlogloss', n_jobs=-1))\n",
        "])\n",
        "\n",
        "X.drop('id', axis=1, inplace=True)  # Drop 'id' column\n",
        "\n",
        "label_encoder = LabelEncoder()\n",
        "y = label_encoder.fit_transform(y)"
      ],
      "metadata": {
        "id": "ofFaIrYkIy1x"
      },
      "execution_count": 12,
      "outputs": []
    },
    {
      "cell_type": "markdown",
      "source": [
        "\n",
        "\n",
        "### Data Preprocessing Report\n",
        "\n",
        "#### 1. One-Hot Encoding of Labels\n",
        "- **Variable Affected**: `status_group`\n",
        "- **Reason for Preprocessing**: To convert categorical labels into a numerical format suitable for machine learning models. Essential for classification tasks.\n",
        "- **Applied Strategy**: One-hot encoding, resulting in an array with a shape corresponding to the number of samples and label categories.\n",
        "\n",
        "#### 2. Feature Engineering - 'Age'\n",
        "- **Variable Affected**: `construction_year`\n",
        "- **Reason for Preprocessing**: To derive more meaningful information from the year of construction by calculating the age of the waterpoints.\n",
        "- **Applied Strategy**: Calculated 'age' as the difference between the current year and the construction year. Replaced invalid ages (where construction year is the current year) with NaN.\n",
        "\n",
        "#### 3. Dropping Columns\n",
        "- **Variables Affected**: `id`, `wpt_name`, `funder`, `installer`, `construction_year`, `extraction_type_group`, `payment_type`, `quality_group`, `quantity_group`, `source_type`, `recorded_by`\n",
        "- **Reason for Preprocessing**: To remove features with high cardinality, low predictive power, redundant information, or those that are identifiers with no predictive value.\n",
        "- **Applied Strategy**: These columns were dropped from the dataset.\n",
        "\n",
        "#### 4. Encoding Date Variables\n",
        "- **Variable Affected**: `date_recorded`\n",
        "- **Reason for Preprocessing**: To transform the date into a more usable format for modeling.\n",
        "- **Applied Strategy**: Extracted the year from `date_recorded` and created a new feature `year_recorded`. The original `date_recorded` column was then dropped.\n",
        "\n",
        "#### 5. Handling Categorical Variables\n",
        "- **Variables Affected**: All categorical columns including `region_code` and `district_code`\n",
        "- **Reason for Preprocessing**: To convert categorical variables into a numeric format that machine learning algorithms can interpret.\n",
        "- **Applied Strategy**: Converted `region_code` and `district_code` to strings. Applied Label Encoding to all categorical variables, including combined categories from training and test sets to handle unseen categories in the test data.\n",
        "\n",
        "#### 6. Normalization of Numeric Features\n",
        "- **Variables Affected**: All numeric columns\n",
        "- **Reason for Preprocessing**: To scale numeric features to a uniform range, important for algorithms that are sensitive to the scale of input data.\n",
        "- **Applied Strategy**: Used `MinMaxScaler` within a pipeline to normalize numeric features.\n",
        "\n",
        "#### 7. Data Transformation and Splitting\n",
        "- **Reason for Preprocessing**: To prepare the data for model training and evaluation.\n",
        "- **Applied Strategy**: Transformed the datasets using a ColumnTransformer and split the data into training and validation sets using train_test_split.\n",
        "\n",
        "This report reflects the preprocessing steps taken in your code, providing a clear understanding of the transformations and rationale behind each step for anyone reviewing the process."
      ],
      "metadata": {
        "id": "N9FLsMUsPm98"
      }
    },
    {
      "cell_type": "markdown",
      "source": [
        "#XGB Baseline Model"
      ],
      "metadata": {
        "id": "6fv8P8FkZLfp"
      }
    },
    {
      "cell_type": "markdown",
      "source": [
        "#XGB Baseline + Hyperparameter Tuning using Hyperopt"
      ],
      "metadata": {
        "id": "iis4BsAfZQTb"
      }
    },
    {
      "cell_type": "code",
      "source": [
        "space = {\n",
        "    'learning_rate': hp.uniform('learning_rate', 0.01, 0.2),\n",
        "    'max_depth': hp.choice('max_depth', range(3, 15)),\n",
        "    'n_estimators': hp.choice('n_estimators', range(50, 300)),\n",
        "    'subsample': hp.uniform('subsample', 0.5, 1),\n",
        "    'colsample_bytree': hp.uniform('colsample_bytree', 0.5, 1),\n",
        "    'gamma': hp.uniform('gamma', 0, 5),\n",
        "    'min_child_weight': hp.uniform('min_child_weight', 0, 10),\n",
        "    'reg_alpha': hp.uniform('reg_alpha', 0.0, 1.0),\n",
        "    'reg_lambda': hp.uniform('reg_lambda', 1.0, 4.0),\n",
        "}\n",
        "\n",
        "def objective(params):\n",
        "    pipeline.set_params(xgb__learning_rate=params['learning_rate'],\n",
        "                        xgb__max_depth=params['max_depth'],\n",
        "                        xgb__n_estimators=params['n_estimators'],\n",
        "                        xgb__subsample=params['subsample'],\n",
        "                        xgb__colsample_bytree=params['colsample_bytree'],\n",
        "                        xgb__gamma=params['gamma'],\n",
        "                        xgb__min_child_weight=params['min_child_weight'],\n",
        "                        xgb__reg_alpha=params['reg_alpha'],\n",
        "                        xgb__reg_lambda=params['reg_lambda'])\n",
        "    score = cross_val_score(pipeline, X, y, cv=6, scoring='f1_weighted').mean()\n",
        "    return {'loss': -score, 'status': STATUS_OK}\n",
        "\n",
        "trials = Trials()\n",
        "best_params = fmin(fn=objective, space=space, algo=atpe.suggest, max_evals=60, trials=trials)\n",
        "\n",
        "print(\"Best parameters:\", best_params)"
      ],
      "metadata": {
        "colab": {
          "base_uri": "https://localhost:8080/"
        },
        "id": "OjM6F6zOv8Z5",
        "outputId": "9bdda8bc-1ef8-4fcb-b3c5-d37753b5441e"
      },
      "execution_count": null,
      "outputs": [
        {
          "output_type": "stream",
          "name": "stdout",
          "text": [
            " 75%|███████▌  | 45/60 [8:20:53<6:07:30, 1470.03s/trial, best loss: -0.7978066329340706]"
          ]
        }
      ]
    },
    {
      "cell_type": "code",
      "source": [
        "best_params = study.best_trial.params\n",
        "optimized_model = XGBClassifier(**best_params, random_state=42)\n",
        "optimized_model.fit(X_train, y_train_labels)\n",
        "\n",
        "y_val_pred = optimized_model.predict(X_val)\n",
        "accuracy_val = accuracy_score(y_val_labels, y_val_pred)\n",
        "print(f\"Optimized Validation Accuracy: {accuracy_val:.4f}\")\n"
      ],
      "metadata": {
        "colab": {
          "base_uri": "https://localhost:8080/"
        },
        "id": "wSa9ccJFwCjQ",
        "outputId": "4a1deaea-b384-4893-b6f9-855d3bc3a412"
      },
      "execution_count": null,
      "outputs": [
        {
          "output_type": "stream",
          "name": "stdout",
          "text": [
            "Optimized Validation Accuracy: 0.8130\n"
          ]
        }
      ]
    },
    {
      "cell_type": "markdown",
      "source": [
        "### Hyperparameter Optimization and Performance Analysis of XGBoost Model using Optuna\n",
        "\n",
        "#### Hyperparameter Optimization with Optuna\n",
        "\n",
        "- **Objective**: To enhance the XGBoost model's performance by optimizing its hyperparameters using Optuna.\n",
        "- **Method**: Utilized Optuna to systematically search for the best combination of hyperparameters. Conducted 20 trials to find the optimal settings.\n",
        "- **Best Hyperparameters Identified**:\n",
        "  - `n_estimators`: 274 (Number of boosted trees to fit)\n",
        "  - `max_depth`: 11 (Maximum tree depth)\n",
        "  - `learning_rate`: 0.06356 (Boosting learning rate)\n",
        "  - `subsample`: 0.7102 (Subsample ratio of the training instances)\n",
        "  - `colsample_bytree`: 0.8771 (Subsample ratio of columns when constructing each tree)\n",
        "  - `gamma`: 1.42e-07 (Minimum loss reduction required to make a further partition)\n",
        "  - `min_child_weight`: 1 (Minimum sum of instance weight needed in a child)\n",
        "- **Optuna Trial Result**: The best trial achieved an accuracy of 81.30% on the validation set.\n",
        "\n",
        "#### Model Performance with Optimized Parameters\n",
        "\n",
        "- **Optimized Model Configuration**: Used the best parameters obtained from Optuna.\n",
        "- **Optimized Validation Accuracy**: Achieved 81.30%, a notable improvement over the baseline model.\n",
        "\n",
        "#### Baseline Model Performance\n",
        "\n",
        "- **Configuration**: Used predefined hyperparameters (n_estimators: 1000, learning_rate: 0.1, etc.).\n",
        "- **Validation Accuracy**: 80.61%.\n",
        "\n",
        "#### Classification Report of Baseline Model\n",
        "\n",
        "| Class | Precision | Recall  | F1-Score | Support    |\n",
        "|-------|-----------|---------|----------|------------|\n",
        "| 0     | 0.8033    | 0.8936  | 0.8460   | 6457.000   |\n",
        "| 1     | 0.5575    | 0.3020  | 0.3918   |  851.000   |\n",
        "| 2     | 0.8378    | 0.7762  | 0.8059   | 4572.000   |\n",
        "\n",
        "- **Overall Performance**:\n",
        "  - Macro Avg Precision: 73.29%\n",
        "  - Weighted Avg Precision: 79.90%\n",
        "  - Macro Avg F1-Score: 68.12%\n",
        "  - Weighted Avg F1-Score: 79.80%\n",
        "\n",
        "#### Analysis and Observations\n",
        "\n",
        "- **Classification Performance**:\n",
        "  - The baseline model showed variable performance across different classes.\n",
        "  - Class 0 exhibited the highest precision and recall, while Class 1 had the lowest, indicating potential challenges in class imbalance.\n",
        "  - The disparity in scores suggests exploring class-specific strategies and addressing class imbalance.\n",
        "  - The difference between macro and weighted averages in the baseline model highlighted the impact of class imbalance on overall performance.\n",
        "- **Next Steps**:\n",
        "  - Experiment with deep learning methods and experiments\n",
        "  - Further tuning or feature engineering could be explored to improve the model's ability to generalize across all classes.\n",
        "\n",
        "#### Conclusion\n",
        "\n",
        "Optuna's hyperparameter optimization proved beneficial, enhancing the XGBoost model's performance. The analysis underscores the importance of tuning and the need to address class-specific issues for a more balanced and effective model."
      ],
      "metadata": {
        "id": "MpbUdb0cQobY"
      }
    },
    {
      "cell_type": "markdown",
      "source": [
        "#Feature Importance (not required)"
      ],
      "metadata": {
        "id": "xMV7aju56cpg"
      }
    },
    {
      "cell_type": "code",
      "source": [
        "import matplotlib.pyplot as plt\n",
        "\n",
        "# Get feature importance\n",
        "feature_importances = optimized_model.feature_importances_\n",
        "\n",
        "# Get column names from the training values dataset\n",
        "feature_names = training_values.columns\n",
        "\n",
        "# Create a DataFrame for easy visualization\n",
        "importance_df = pd.DataFrame({'Feature': feature_names, 'Importance': feature_importances})\n",
        "\n",
        "# Sort the DataFrame by importance\n",
        "importance_df = importance_df.sort_values(by='Importance', ascending=False)\n",
        "\n",
        "# Plotting\n",
        "plt.figure(figsize=(10, 8))\n",
        "plt.barh(importance_df['Feature'], importance_df['Importance'])\n",
        "plt.xlabel('Importance')\n",
        "plt.ylabel('Feature')\n",
        "plt.title('Feature Importance of Optimized Model')\n",
        "plt.gca().invert_yaxis()\n",
        "plt.show()\n"
      ],
      "metadata": {
        "colab": {
          "base_uri": "https://localhost:8080/",
          "height": 718
        },
        "id": "_W1hqUXumZkx",
        "outputId": "949b1a2e-c780-44c1-eb44-ca2eced609a2"
      },
      "execution_count": null,
      "outputs": [
        {
          "output_type": "display_data",
          "data": {
            "text/plain": [
              "<Figure size 1000x800 with 1 Axes>"
            ],
            "image/png": "[encoded data removed]"
          },
          "metadata": {}
        }
      ]
    },
    {
      "cell_type": "markdown",
      "source": [],
      "metadata": {
        "id": "I-FRS1qLIzUM"
      }
    },
    {
      "cell_type": "markdown",
      "source": [
        "#Creating submission file"
      ],
      "metadata": {
        "id": "YNzx5RqN6XfC"
      }
    },
    {
      "cell_type": "code",
      "source": [
        "import pandas as pd\n",
        "from sklearn.model_selection import train_test_split\n",
        "from sklearn.preprocessing import OneHotEncoder, LabelEncoder, MinMaxScaler\n",
        "from sklearn.compose import ColumnTransformer\n",
        "from sklearn.pipeline import Pipeline\n",
        "import numpy as np\n",
        "from datetime import datetime\n",
        "\n",
        "# Load the datasets\n",
        "training_values = pd.read_csv(training_set_values_file_path)\n",
        "training_labels = pd.read_csv(training_set_labels_file_path)\n",
        "test_values = pd.read_csv(test_set_file_path)\n",
        "\n",
        "# Store test IDs for later use\n",
        "test_ids = test_values['id'].copy()\n",
        "\n",
        "# One-Hot Encoding of Labels\n",
        "encoder = OneHotEncoder(sparse=False)\n",
        "encoded_labels = encoder.fit_transform(training_labels[['status_group']])\n",
        "\n",
        "# Calculate 'age'\n",
        "current_year = datetime.now().year\n",
        "for dataset in [training_values, test_values]:\n",
        "    dataset['age'] = current_year - dataset['construction_year']\n",
        "    dataset['age'].replace({current_year: np.nan}, inplace=True)\n",
        "\n",
        "# Columns to Drop\n",
        "columns_to_drop = ['id', 'wpt_name', 'funder', 'installer', 'construction_year',\n",
        "                   'extraction_type_group', 'payment_type', 'quality_group',\n",
        "                   'quantity_group', 'source_type', 'recorded_by']\n",
        "training_values.drop(columns=columns_to_drop, inplace=True)\n",
        "test_values.drop(columns=columns_to_drop, inplace=True)\n",
        "\n",
        "\n",
        "# Handling 'date_recorded'\n",
        "for dataset in [training_values, test_values]:\n",
        "    dataset['year_recorded'] = pd.to_datetime(dataset['date_recorded']).dt.year\n",
        "    dataset.drop(columns=['date_recorded'], inplace=True)\n",
        "\n",
        "# Convert region_code and district_code to string\n",
        "for dataset in [training_values, test_values]:\n",
        "    dataset['region_code'] = dataset['region_code'].astype(str)\n",
        "    dataset['district_code'] = dataset['district_code'].astype(str)\n",
        "\n",
        "# Update categorical columns list\n",
        "categorical_columns = training_values.select_dtypes(include=['object', 'bool']).columns.tolist()\n",
        "\n",
        "# Adjusting Label Encoding to handle unseen categories in test data\n",
        "for col in categorical_columns:\n",
        "    combined_categories = pd.concat([training_values[col], test_values[col]], axis=0).astype(str).unique()\n",
        "    le = LabelEncoder().fit(combined_categories)\n",
        "    training_values[col] = le.transform(training_values[col].astype(str))\n",
        "    test_values[col] = le.transform(test_values[col].astype(str))\n",
        "\n",
        "# Normalization of Numeric Features\n",
        "numeric_columns = training_values.select_dtypes(include=[np.number]).columns.tolist()\n",
        "\n",
        "numeric_transformer = Pipeline(steps=[\n",
        "    ('scaler', MinMaxScaler())\n",
        "])\n",
        "\n",
        "preprocessor = ColumnTransformer(\n",
        "    transformers=[\n",
        "        ('num', numeric_transformer, numeric_columns)\n",
        "    ],\n",
        "    remainder='passthrough'  # Keep other columns unchanged\n",
        ")\n",
        "\n",
        "\n",
        "# Making predictions on the test set\n",
        "test_predictions = optimized_model.predict(X_test_processed)\n",
        "\n",
        "# label names in the original dataset are 'functional', 'non functional', and 'functional needs repair'\n",
        "label_names = ['functional', 'non functional', 'functional needs repair']\n",
        "\n",
        "# Transform the class indices (0, 1, 2) back to original class names\n",
        "test_predictions_labels = [label_names[index] for index in test_predictions]\n",
        "\n",
        "# Creating a DataFrame for submission\n",
        "submission_df = pd.DataFrame({\n",
        "    'id': test_ids,  # Use stored test IDs\n",
        "    'status_group': test_predictions_labels\n",
        "})\n",
        "\n",
        "# Display the first few rows of the DataFrame\n",
        "print(submission_df.head())\n"
      ],
      "metadata": {
        "colab": {
          "base_uri": "https://localhost:8080/"
        },
        "id": "lqlBq-ZcptpT",
        "outputId": "c8810708-e2e6-4a47-abbd-c110c4763863"
      },
      "execution_count": null,
      "outputs": [
        {
          "output_type": "stream",
          "name": "stderr",
          "text": [
            "/usr/local/lib/python3.10/dist-packages/sklearn/preprocessing/_encoders.py:868: FutureWarning: `sparse` was renamed to `sparse_output` in version 1.2 and will be removed in 1.4. `sparse_output` is ignored unless you leave `sparse` to its default value.\n",
            "  warnings.warn(\n"
          ]
        },
        {
          "output_type": "stream",
          "name": "stdout",
          "text": [
            "      id             status_group\n",
            "0  50785  functional needs repair\n",
            "1  51630               functional\n",
            "2  17168               functional\n",
            "3  45559  functional needs repair\n",
            "4  49871               functional\n"
          ]
        }
      ]
    },
    {
      "cell_type": "code",
      "source": [
        "\n",
        "# Saving the DataFrame to a CSV file\n",
        "submission_df.to_csv('/content/drive/MyDrive/MMAI_Group/894_team/DrivenData_Competition/notebooks/John/SubmissionFormat.csv', index=False)"
      ],
      "metadata": {
        "id": "DB0LKFQKwWy6"
      },
      "execution_count": null,
      "outputs": []
    }
  ]
}