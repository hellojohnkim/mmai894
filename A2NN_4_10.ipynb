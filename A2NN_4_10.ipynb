{
  "cells": [
    {
      "cell_type": "markdown",
      "metadata": {
        "id": "view-in-github",
        "colab_type": "text"
      },
      "source": [
        "<a href=\"https://colab.research.google.com/github/hellojohnkim/mmai894/blob/main/A2NN_4_10.ipynb\" target=\"_parent\"><img src=\"https://colab.research.google.com/assets/colab-badge.svg\" alt=\"Open In Colab\"/></a>"
      ]
    },
    {
      "cell_type": "code",
      "source": [
        "!pip install category_encoders"
      ],
      "metadata": {
        "colab": {
          "base_uri": "https://localhost:8080/"
        },
        "id": "3e-X0zegHuCc",
        "outputId": "219db08c-d77e-4fde-ac49-a342f6933ab5"
      },
      "execution_count": null,
      "outputs": [
        {
          "output_type": "stream",
          "name": "stdout",
          "text": [
            "Collecting category_encoders\n",
            "  Downloading category_encoders-2.6.3-py2.py3-none-any.whl (81 kB)\n",
            "\u001b[2K     \u001b[90m━━━━━━━━━━━━━━━━━━━━━━━━━━━━━━━━━━━━━━━━\u001b[0m \u001b[32m81.9/81.9 kB\u001b[0m \u001b[31m1.2 MB/s\u001b[0m eta \u001b[36m0:00:00\u001b[0m\n",
            "\u001b[?25hRequirement already satisfied: numpy>=1.14.0 in /usr/local/lib/python3.10/dist-packages (from category_encoders) (1.23.5)\n",
            "Requirement already satisfied: scikit-learn>=0.20.0 in /usr/local/lib/python3.10/dist-packages (from category_encoders) (1.2.2)\n",
            "Requirement already satisfied: scipy>=1.0.0 in /usr/local/lib/python3.10/dist-packages (from category_encoders) (1.11.4)\n",
            "Requirement already satisfied: statsmodels>=0.9.0 in /usr/local/lib/python3.10/dist-packages (from category_encoders) (0.14.1)\n",
            "Requirement already satisfied: pandas>=1.0.5 in /usr/local/lib/python3.10/dist-packages (from category_encoders) (1.5.3)\n",
            "Requirement already satisfied: patsy>=0.5.1 in /usr/local/lib/python3.10/dist-packages (from category_encoders) (0.5.6)\n",
            "Requirement already satisfied: python-dateutil>=2.8.1 in /usr/local/lib/python3.10/dist-packages (from pandas>=1.0.5->category_encoders) (2.8.2)\n",
            "Requirement already satisfied: pytz>=2020.1 in /usr/local/lib/python3.10/dist-packages (from pandas>=1.0.5->category_encoders) (2023.4)\n",
            "Requirement already satisfied: six in /usr/local/lib/python3.10/dist-packages (from patsy>=0.5.1->category_encoders) (1.16.0)\n",
            "Requirement already satisfied: joblib>=1.1.1 in /usr/local/lib/python3.10/dist-packages (from scikit-learn>=0.20.0->category_encoders) (1.3.2)\n",
            "Requirement already satisfied: threadpoolctl>=2.0.0 in /usr/local/lib/python3.10/dist-packages (from scikit-learn>=0.20.0->category_encoders) (3.2.0)\n",
            "Requirement already satisfied: packaging>=21.3 in /usr/local/lib/python3.10/dist-packages (from statsmodels>=0.9.0->category_encoders) (23.2)\n",
            "Installing collected packages: category_encoders\n",
            "Successfully installed category_encoders-2.6.3\n"
          ]
        }
      ]
    },
    {
      "cell_type": "code",
      "execution_count": null,
      "metadata": {
        "id": "GkJhhtcJ6kO_"
      },
      "outputs": [],
      "source": [
        "import pandas as pd\n",
        "import numpy as np\n",
        "from sklearn.impute import SimpleImputer, KNNImputer\n",
        "from sklearn.preprocessing import StandardScaler, OneHotEncoder\n",
        "from sklearn.compose import ColumnTransformer\n",
        "from sklearn.pipeline import Pipeline\n",
        "import numpy as np\n",
        "from sklearn.pipeline import Pipeline\n",
        "from sklearn.compose import ColumnTransformer\n",
        "from sklearn.preprocessing import RobustScaler\n",
        "from category_encoders import BinaryEncoder\n",
        "import tensorflow as tf\n",
        "from hyperopt import hp\n",
        "from tensorflow.keras.models import Sequential\n",
        "from tensorflow.keras.layers import Dense, Dropout\n",
        "from hyperopt import STATUS_OK, fmin, tpe, Trials, atpe, space_eval\n",
        "from tensorflow.keras.callbacks import EarlyStopping\n",
        "from sklearn.preprocessing import LabelEncoder\n",
        "\n",
        "pd.set_option('display.max_columns', None)"
      ]
    },
    {
      "cell_type": "code",
      "source": [
        "#run this cell if you get denied running the data loading cell\n",
        "from google.colab import drive\n",
        "drive.mount('/content/drive')"
      ],
      "metadata": {
        "colab": {
          "base_uri": "https://localhost:8080/"
        },
        "id": "zrXAIISBGYyT",
        "outputId": "d065667d-843c-45e5-d940-aed3761793ff"
      },
      "execution_count": null,
      "outputs": [
        {
          "output_type": "stream",
          "name": "stdout",
          "text": [
            "Mounted at /content/drive\n"
          ]
        }
      ]
    },
    {
      "cell_type": "code",
      "source": [
        "# Specifying the datasets file paths\n",
        "training_set_values_file_path = '/content/drive/MyDrive/MMAI24_Chester/894_team/DrivenData_Competition/notebooks/Naevin/training_set_values.csv'\n",
        "training_set_labels_file_path = '/content/drive/MyDrive/MMAI24_Chester/894_team/DrivenData_Competition/notebooks/Naevin/training_set_label.csv'\n",
        "test_set_file_path = '/content/drive/MyDrive/MMAI24_Chester/894_team/DrivenData_Competition/notebooks/Naevin/test_set.csv'"
      ],
      "metadata": {
        "id": "Ui70_BARGbA-"
      },
      "execution_count": null,
      "outputs": []
    },
    {
      "cell_type": "code",
      "execution_count": null,
      "metadata": {
        "id": "eijd0UdI8Hnz"
      },
      "outputs": [],
      "source": [
        "features_df = pd.read_csv(training_set_values_file_path)\n",
        "labels_df = pd.read_csv(training_set_labels_file_path)\n",
        "test = pd.read_csv(test_set_file_path)"
      ]
    },
    {
      "cell_type": "code",
      "execution_count": null,
      "metadata": {
        "id": "H8fpE3vi8HgB",
        "colab": {
          "base_uri": "https://localhost:8080/"
        },
        "outputId": "d616c2f3-5e68-4054-e158-07c15ab1c55b"
      },
      "outputs": [
        {
          "output_type": "execute_result",
          "data": {
            "text/plain": [
              "functional                 32259\n",
              "non functional             22824\n",
              "functional needs repair     4317\n",
              "Name: status_group, dtype: int64"
            ]
          },
          "metadata": {},
          "execution_count": 6
        }
      ],
      "source": [
        "labels_df['status_group'].value_counts()"
      ]
    },
    {
      "cell_type": "code",
      "execution_count": null,
      "metadata": {
        "id": "xl43YGdG8HdS"
      },
      "outputs": [],
      "source": [
        "data_df = features_df.merge(labels_df, on='id')"
      ]
    },
    {
      "cell_type": "code",
      "execution_count": null,
      "metadata": {
        "id": "54chI0-88Haq"
      },
      "outputs": [],
      "source": [
        "def calculate_well_age(row):\n",
        "    if row['construction_year'] > 0:\n",
        "        return row['date_recorded'].year - row['construction_year']\n",
        "    else:\n",
        "        return np.nan\n",
        "\n",
        "data_df['date_recorded'] = pd.to_datetime(data_df['date_recorded'])\n",
        "data_df['year_recorded'] = data_df['date_recorded'].dt.year\n",
        "data_df['month_recorded'] = data_df['date_recorded'].dt.month\n",
        "data_df['day_recorded'] = data_df['date_recorded'].dt.day\n",
        "data_df['days_since_recorded'] = (data_df['date_recorded'] - data_df['date_recorded'].min()).dt.days\n",
        "data_df['well_age'] = data_df.apply(calculate_well_age, axis=1)\n",
        "\n",
        "data_df.drop('date_recorded', axis=1, inplace=True)\n",
        "\n",
        "def encode_cyclical_features(df, cols):\n",
        "    for col in cols:\n",
        "        max_val = df[col].max()\n",
        "        df[col + '_sin'] = np.sin(2 * np.pi * df[col] / max_val)\n",
        "        df[col + '_cos'] = np.cos(2 * np.pi * df[col] / max_val)\n",
        "    return df\n",
        "\n",
        "cyclical_cols = ['year_recorded', 'month_recorded', 'day_recorded']\n",
        "\n",
        "data_df = encode_cyclical_features(data_df, cyclical_cols)\n",
        "data_df.drop(['month_recorded', 'day_recorded'], axis=1, inplace=True)"
      ]
    },
    {
      "cell_type": "code",
      "execution_count": null,
      "metadata": {
        "id": "UpGjidrE8HXx"
      },
      "outputs": [],
      "source": [
        "mixed_type_columns = ['funder', 'installer', 'subvillage',\n",
        "                      'public_meeting', 'scheme_management',\n",
        "                      'scheme_name', 'permit']\n",
        "\n",
        "for col in mixed_type_columns:\n",
        "    data_df[col] = data_df[col].astype(str)\n",
        "\n",
        "data_df.drop('id', axis = 1, inplace=True)\n",
        "X = data_df.drop('status_group', axis=1)\n",
        "y = data_df['status_group']\n",
        "\n",
        "numeric_features = X.select_dtypes(include=['int64', 'float64']).columns\n",
        "categorical_features = X.select_dtypes(include=['object', 'category']).columns\n",
        "\n",
        "numeric_transformer = Pipeline(steps=[\n",
        "    ('imputer', KNNImputer(n_neighbors=5, )),\n",
        "    ('scaler', RobustScaler())\n",
        "])\n",
        "\n",
        "categorical_transformer = Pipeline(steps=[\n",
        "    ('imputer', SimpleImputer(strategy='constant', fill_value='missing')),\n",
        "    ('onehot', BinaryEncoder())])\n",
        "\n",
        "preprocessor = ColumnTransformer(\n",
        "    transformers=[\n",
        "        ('num', numeric_transformer, numeric_features),\n",
        "        ('cat', categorical_transformer, categorical_features)])\n",
        "\n",
        "X_transformed = preprocessor.fit_transform(X)\n",
        "\n",
        "transformed_numeric_features = numeric_features\n",
        "transformed_categorical_features = preprocessor.named_transformers_['cat']['onehot'].get_feature_names_out(categorical_features)\n",
        "\n",
        "all_transformed_features = list(transformed_numeric_features) + list(transformed_categorical_features)\n",
        "X = pd.DataFrame(X_transformed, columns=all_transformed_features)"
      ]
    },
    {
      "cell_type": "code",
      "execution_count": null,
      "metadata": {
        "id": "t70HK-vygmv0"
      },
      "outputs": [],
      "source": [
        "le = LabelEncoder()\n",
        "y = le.fit_transform(y)\n",
        "y = pd.DataFrame(y)"
      ]
    },
    {
      "cell_type": "code",
      "execution_count": null,
      "metadata": {
        "id": "Zvv9a0Ch8HUs",
        "colab": {
          "base_uri": "https://localhost:8080/"
        },
        "outputId": "2e033795-34a4-4d8e-b75f-615af1c4f7da"
      },
      "outputs": [
        {
          "output_type": "stream",
          "name": "stdout",
          "text": [
            "100%|██████████| 150/150 [2:25:04<00:00, 58.03s/trial, best loss: -0.7865319848060608]\n",
            "\n",
            "Overall Best hyperparameters:\n",
            "{'batch_size': 128, 'dropout': 0.2675233085503283, 'epochs': 10, 'learning_rate': 0.00013539980858461663, 'num_layers': 6, 'units_hidden': 512, 'units_input': 512}\n"
          ]
        }
      ],
      "source": [
        "#DO NOT RUN\n",
        "space = {\n",
        "    'units_input': hp.choice('units_input', [32, 64, 128, 256, 512]),\n",
        "    'num_layers': hp.choice('num_layers', [4, 5, 6, 7, 8, 9, 10, 15, 30]),\n",
        "    'units_hidden': hp.choice('units_hidden', [32, 64, 128, 256, 512]),\n",
        "    'dropout': hp.uniform('dropout', 0.0, 0.5),\n",
        "    'learning_rate': hp.loguniform('learning_rate', np.log(1e-4), np.log(1e-2)),\n",
        "    'batch_size': hp.choice('batch_size', [32, 64, 128]),\n",
        "    'epochs': hp.choice('epochs', [10, 20, 30, 40, 50])\n",
        "}\n",
        "\n",
        "def objective(params):\n",
        "    model = Sequential()\n",
        "    model.add(Dense(params['units_input'], activation='relu', input_shape=(X.shape[1],)))\n",
        "\n",
        "    for i in range(params['num_layers']):\n",
        "        model.add(Dense(params['units_hidden'], activation='relu'))\n",
        "        model.add(Dropout(params['dropout']))\n",
        "\n",
        "    model.add(Dense(len(np.unique(y)), activation='softmax'))\n",
        "    model.compile(optimizer='adam', loss='sparse_categorical_crossentropy', metrics=['accuracy'])\n",
        "\n",
        "    early_stopping = EarlyStopping(monitor='val_loss', patience=6, mode='min', verbose=False)\n",
        "    history = model.fit(X, y, epochs=params['epochs'], batch_size=params['batch_size'], validation_split=0.2, callbacks=[early_stopping], verbose=False)\n",
        "\n",
        "    validation_accuracy = max(history.history['val_accuracy'])\n",
        "\n",
        "    return {'loss': -validation_accuracy, 'status': STATUS_OK}\n",
        "\n",
        "trials = Trials()\n",
        "\n",
        "best = fmin(\n",
        "    fn=objective,\n",
        "    space=space,\n",
        "    algo=tpe.suggest,\n",
        "    max_evals=150,\n",
        "    trials=trials,\n",
        "    show_progressbar=True,\n",
        "    verbose=True,\n",
        ")\n",
        "\n",
        "print(\"\\nOverall Best hyperparameters:\")\n",
        "print(space_eval(space, best))"
      ]
    },
    {
      "cell_type": "markdown",
      "source": [],
      "metadata": {
        "id": "jr9EEsBlDz4b"
      }
    },
    {
      "cell_type": "code",
      "source": [
        "bestv2 = {'batch_size': 128,\n",
        " 'dropout': 0.2675233085503283,\n",
        " 'epochs': 10,\n",
        " 'learning_rate': 0.00013539980858461663,\n",
        " 'num_layers': 6,\n",
        " 'units_hidden': 512,\n",
        " 'units_input': 512}\n"
      ],
      "metadata": {
        "id": "zhebCpvUvCu6"
      },
      "execution_count": null,
      "outputs": []
    },
    {
      "cell_type": "code",
      "source": [
        "bestv1 = {\n",
        "    'batch_size': 32,\n",
        "    'dropout': 0.18789225010444455,\n",
        "    'epochs': 30,\n",
        "    'learning_rate': 0.0012051040665326852,\n",
        "    'num_layers': 5,\n",
        "    'units_hidden': 64,\n",
        "    'units_input': 512\n",
        "}"
      ],
      "metadata": {
        "id": "rDyiZdgo2TO5"
      },
      "execution_count": null,
      "outputs": []
    },
    {
      "cell_type": "code",
      "source": [
        "#  params for trials 4 to 9\n",
        "\n",
        "#Tu\n",
        "model_1_params = {\n",
        "    'batch_size': 256,\n",
        "    'dropout': 0.5,\n",
        "    'epochs': 5,\n",
        "    'learning_rate': 0.001,\n",
        "    'num_layers': 3,\n",
        "    'units_hidden': 256,\n",
        "    'units_input': 512\n",
        "}\n",
        "\n",
        "#Tu\n",
        "model_2_params = {\n",
        "    'batch_size': 224,\n",
        "    'dropout': 0.4,\n",
        "    'epochs': 6,\n",
        "    'learning_rate': 0.0005,\n",
        "    'num_layers': 4,\n",
        "    'units_hidden': 384,\n",
        "    'units_input': 512\n",
        "}\n",
        "\n",
        "#Susan\n",
        "model_3_params = {\n",
        "    'batch_size': 192,\n",
        "    'dropout': 0.35,\n",
        "    'epochs': 7,\n",
        "    'learning_rate': 0.0003,\n",
        "    'num_layers': 5,\n",
        "    'units_hidden': 448,\n",
        "    'units_input': 512\n",
        "}\n",
        "\n",
        "#Susan\n",
        "model_4_params = {\n",
        "    'batch_size': 160,\n",
        "    'dropout': 0.32,\n",
        "    'epochs': 8,\n",
        "    'learning_rate': 0.0002,\n",
        "    'num_layers': 6,\n",
        "    'units_hidden': 480,\n",
        "    'units_input': 512\n",
        "}\n",
        "\n",
        "#Naevin\n",
        "model_5_params = {\n",
        "    'batch_size': 144,\n",
        "    'dropout': 0.3,\n",
        "    'epochs': 9,\n",
        "    'learning_rate': 0.00018,\n",
        "    'num_layers': 6,\n",
        "    'units_hidden': 496,\n",
        "    'units_input': 512\n",
        "}\n",
        "\n",
        "#Naevin\n",
        "model_6_params = {\n",
        "    'batch_size': 136,\n",
        "    'dropout': 0.28,\n",
        "    'epochs': 10,\n",
        "    'learning_rate': 0.00014,\n",
        "    'num_layers': 6,\n",
        "    'units_hidden': 504,\n",
        "    'units_input': 512\n",
        "}\n"
      ],
      "metadata": {
        "id": "B9_EP1PRuzdn"
      },
      "execution_count": null,
      "outputs": []
    },
    {
      "cell_type": "code",
      "source": [
        "from tensorflow.keras.layers import Dense, BatchNormalization\n",
        "#DEEP LEARNING MODEL\n",
        "best_params = {'batch_size': 128,\n",
        " 'dropout': 0.2675233085503283,\n",
        " 'epochs': 10,\n",
        " 'learning_rate': 0.00013539980858461663,\n",
        " 'num_layers': 6,\n",
        " 'units_hidden': 512,\n",
        " 'units_input': 512}\n",
        "\n",
        "model = Sequential()\n",
        "model.add(Dense(best_params['units_input'], activation='relu', input_shape=(X.shape[1],)))\n",
        "\n",
        "for _ in range(best_params['num_layers']):\n",
        "    model.add(Dense(best_params['units_hidden'], activation='relu'))\n",
        "    model.add(Dropout(best_params['dropout']))\n",
        "\n",
        "\n",
        "model.add(Dense(len(np.unique(y)), activation='softmax'))\n",
        "\n",
        "model.compile(optimizer='adam',\n",
        "              loss='sparse_categorical_crossentropy',\n",
        "              metrics=['accuracy'])\n",
        "\n",
        "history = model.fit(X, y,\n",
        "                    epochs=best_params['epochs'],\n",
        "                    batch_size=best_params['batch_size'],\n",
        "                    validation_split=0.2)"
      ],
      "metadata": {
        "colab": {
          "base_uri": "https://localhost:8080/"
        },
        "id": "AcQCxF7o7lSj",
        "outputId": "b0e64f21-d4ca-4099-d7b2-b602307c79ef"
      },
      "execution_count": null,
      "outputs": [
        {
          "output_type": "stream",
          "name": "stdout",
          "text": [
            "Epoch 1/10\n",
            "372/372 [==============================] - 9s 7ms/step - loss: 0.7598 - accuracy: 0.6813 - val_loss: 0.6330 - val_accuracy: 0.7428\n",
            "Epoch 2/10\n",
            "372/372 [==============================] - 2s 6ms/step - loss: 0.6267 - accuracy: 0.7443 - val_loss: 0.5893 - val_accuracy: 0.7614\n",
            "Epoch 3/10\n",
            "372/372 [==============================] - 2s 6ms/step - loss: 0.5775 - accuracy: 0.7643 - val_loss: 0.5696 - val_accuracy: 0.7712\n",
            "Epoch 4/10\n",
            "372/372 [==============================] - 3s 7ms/step - loss: 0.5417 - accuracy: 0.7806 - val_loss: 0.5605 - val_accuracy: 0.7726\n",
            "Epoch 5/10\n",
            "372/372 [==============================] - 3s 8ms/step - loss: 0.5182 - accuracy: 0.7900 - val_loss: 0.5579 - val_accuracy: 0.7749\n",
            "Epoch 6/10\n",
            "372/372 [==============================] - 2s 6ms/step - loss: 0.4919 - accuracy: 0.8002 - val_loss: 0.5943 - val_accuracy: 0.7607\n",
            "Epoch 7/10\n",
            "372/372 [==============================] - 2s 6ms/step - loss: 0.4682 - accuracy: 0.8092 - val_loss: 0.5701 - val_accuracy: 0.7801\n",
            "Epoch 8/10\n",
            "372/372 [==============================] - 2s 6ms/step - loss: 0.4529 - accuracy: 0.8153 - val_loss: 0.5701 - val_accuracy: 0.7797\n",
            "Epoch 9/10\n",
            "372/372 [==============================] - 2s 6ms/step - loss: 0.4251 - accuracy: 0.8286 - val_loss: 0.6106 - val_accuracy: 0.7707\n",
            "Epoch 10/10\n",
            "372/372 [==============================] - 3s 8ms/step - loss: 0.4033 - accuracy: 0.8364 - val_loss: 0.6166 - val_accuracy: 0.7714\n"
          ]
        }
      ]
    },
    {
      "cell_type": "code",
      "source": [
        "# Evaluate the model\n",
        "loss, accuracy = model.evaluate(X, y)\n",
        "print(f'Accuracy: {accuracy*100:.2f}%')"
      ],
      "metadata": {
        "colab": {
          "base_uri": "https://localhost:8080/"
        },
        "id": "XlnhoiGgInGF",
        "outputId": "19a15467-e06c-4926-9a48-e6ac12be8d93"
      },
      "execution_count": null,
      "outputs": [
        {
          "output_type": "stream",
          "name": "stdout",
          "text": [
            "1857/1857 [==============================] - 5s 3ms/step - loss: 0.3933 - accuracy: 0.8439\n",
            "Accuracy: 84.39%\n"
          ]
        }
      ]
    },
    {
      "cell_type": "code",
      "source": [
        "# Predict the classes\n",
        "y_pred = model.predict(X)\n",
        "y_pred_classes = np.argmax(y_pred, axis=1)  # Convert predictions to class labels"
      ],
      "metadata": {
        "colab": {
          "base_uri": "https://localhost:8080/"
        },
        "id": "aqmBoZ8HJr3Y",
        "outputId": "1b146f87-8121-4f65-a20d-65c0aaecfc68"
      },
      "execution_count": null,
      "outputs": [
        {
          "output_type": "stream",
          "name": "stdout",
          "text": [
            "1857/1857 [==============================] - 4s 2ms/step\n"
          ]
        }
      ]
    },
    {
      "cell_type": "code",
      "source": [
        "from sklearn.metrics import confusion_matrix, f1_score, classification_report\n",
        "import numpy as np\n",
        "import matplotlib.pyplot as plt\n",
        "# Compute the confusion matrix\n",
        "conf_matrix = confusion_matrix(y, y_pred_classes)\n",
        "print(\"Confusion Matrix:\")\n",
        "print(conf_matrix)\n",
        "\n",
        "# Compute the F1 score\n",
        "f1 = f1_score(y, y_pred_classes, average='weighted')  # Use 'weighted' for multi-class classification\n",
        "print(f\"F1 Score: {f1:.2f}\")"
      ],
      "metadata": {
        "colab": {
          "base_uri": "https://localhost:8080/"
        },
        "id": "cpihpsxTJ0mv",
        "outputId": "b13cec6f-3d9f-4a55-c250-a97fc453689f"
      },
      "execution_count": null,
      "outputs": [
        {
          "output_type": "stream",
          "name": "stdout",
          "text": [
            "Confusion Matrix:\n",
            "[[29174   328  2757]\n",
            " [ 2109  1660   548]\n",
            " [ 3337   193 19294]]\n",
            "F1 Score: 0.84\n"
          ]
        }
      ]
    },
    {
      "cell_type": "code",
      "source": [
        "print(\"Classification Report:\")\n",
        "print(classification_report(y, y_pred_classes))"
      ],
      "metadata": {
        "colab": {
          "base_uri": "https://localhost:8080/"
        },
        "id": "vH6kahB1J7ng",
        "outputId": "94bcd292-5f29-4f26-f0b9-9d40eb081e1e"
      },
      "execution_count": null,
      "outputs": [
        {
          "output_type": "stream",
          "name": "stdout",
          "text": [
            "Classification Report:\n",
            "              precision    recall  f1-score   support\n",
            "\n",
            "           0       0.84      0.90      0.87     32259\n",
            "           1       0.76      0.38      0.51      4317\n",
            "           2       0.85      0.85      0.85     22824\n",
            "\n",
            "    accuracy                           0.84     59400\n",
            "   macro avg       0.82      0.71      0.74     59400\n",
            "weighted avg       0.84      0.84      0.84     59400\n",
            "\n"
          ]
        }
      ]
    },
    {
      "cell_type": "code",
      "source": [
        "#test = pd.read_csv('test_set.csv')"
      ],
      "metadata": {
        "id": "0rRlzOJUvT_l"
      },
      "execution_count": null,
      "outputs": []
    },
    {
      "cell_type": "code",
      "source": [
        "def calculate_well_age(row):\n",
        "    if row['construction_year'] > 0:\n",
        "        return row['date_recorded'].year - row['construction_year']\n",
        "    else:\n",
        "        return np.nan\n",
        "\n",
        "test['date_recorded'] = pd.to_datetime(test['date_recorded'])\n",
        "test['year_recorded'] = test['date_recorded'].dt.year\n",
        "test['month_recorded'] = test['date_recorded'].dt.month\n",
        "test['day_recorded'] = test['date_recorded'].dt.day\n",
        "test['days_since_recorded'] = (test['date_recorded'] - test['date_recorded'].min()).dt.days\n",
        "test['well_age'] = test.apply(calculate_well_age, axis=1)\n",
        "\n",
        "test.drop('date_recorded', axis=1, inplace=True)\n",
        "\n",
        "def encode_cyclical_features(df, cols):\n",
        "    for col in cols:\n",
        "        max_val = df[col].max()\n",
        "        df[col + '_sin'] = np.sin(2 * np.pi * df[col] / max_val)\n",
        "        df[col + '_cos'] = np.cos(2 * np.pi * df[col] / max_val)\n",
        "    return df\n",
        "\n",
        "cyclical_cols = ['year_recorded', 'month_recorded', 'day_recorded']\n",
        "\n",
        "test = encode_cyclical_features(test, cyclical_cols)\n",
        "test.drop(['month_recorded', 'day_recorded'], axis=1, inplace=True)"
      ],
      "metadata": {
        "id": "sKs6Z7GM98AE"
      },
      "execution_count": null,
      "outputs": []
    },
    {
      "cell_type": "code",
      "source": [
        "mixed_type_columns = ['funder', 'installer', 'subvillage',\n",
        "                      'public_meeting', 'scheme_management',\n",
        "                      'scheme_name', 'permit']\n",
        "\n",
        "for col in mixed_type_columns:\n",
        "    test[col] = test[col].astype(str)\n",
        "\n",
        "test.drop('id', axis = 1, inplace=True)"
      ],
      "metadata": {
        "id": "XM5sU9dHv2-z"
      },
      "execution_count": null,
      "outputs": []
    },
    {
      "cell_type": "code",
      "source": [
        "X_transformed = preprocessor.transform(test)\n",
        "\n",
        "transformed_numeric_features = numeric_features\n",
        "transformed_categorical_features = preprocessor.named_transformers_['cat']['onehot'].get_feature_names_out(categorical_features)\n",
        "\n",
        "all_transformed_features = list(transformed_numeric_features) + list(transformed_categorical_features)\n",
        "test = pd.DataFrame(X_transformed, columns=all_transformed_features)"
      ],
      "metadata": {
        "id": "bWe8ZwmHwbmk"
      },
      "execution_count": null,
      "outputs": []
    },
    {
      "cell_type": "code",
      "source": [
        "predictions = model.predict(test, batch_size=128)"
      ],
      "metadata": {
        "colab": {
          "base_uri": "https://localhost:8080/"
        },
        "id": "ZDgVgK6ZwjV_",
        "outputId": "a7b8a5c9-db3c-4a76-807e-bdb2c8cd2412"
      },
      "execution_count": null,
      "outputs": [
        {
          "output_type": "stream",
          "name": "stdout",
          "text": [
            "110/110 [==============================] - 0s 2ms/step\n"
          ]
        }
      ]
    },
    {
      "cell_type": "code",
      "source": [
        "test = pd.read_csv(test_set_file_path)"
      ],
      "metadata": {
        "id": "E2ZICEFhyAcy"
      },
      "execution_count": null,
      "outputs": []
    },
    {
      "cell_type": "code",
      "source": [
        "predicted_classes = np.argmax(predictions, axis=1)"
      ],
      "metadata": {
        "id": "jeDbcdHByN-j"
      },
      "execution_count": null,
      "outputs": []
    },
    {
      "cell_type": "code",
      "source": [
        "predicted_classes = le.inverse_transform(predicted_classes)"
      ],
      "metadata": {
        "id": "--Wc79xczwYO"
      },
      "execution_count": null,
      "outputs": []
    },
    {
      "cell_type": "code",
      "source": [
        "final = pd.DataFrame({'id': test.id, 'status_group': predicted_classes})"
      ],
      "metadata": {
        "id": "bX-RCRZSwo6j"
      },
      "execution_count": null,
      "outputs": []
    },
    {
      "cell_type": "code",
      "source": [
        "# Save the DataFrame to a CSV file, Edit the below path to your personal folder and submit\n",
        "final.to_csv('/content/drive/MyDrive/MMAI24_Chester/894_team/DrivenData_Competition/notebooks/Naevin/DeepLearning Submissions/SubmissionFormatDeep10.csv', index=False)"
      ],
      "metadata": {
        "id": "IWdYfEv6KWMY"
      },
      "execution_count": null,
      "outputs": []
    },
    {
      "cell_type": "code",
      "source": [
        "#final.to_csv('submission3.csv', index=False)"
      ],
      "metadata": {
        "id": "AcibEsNmxoaY"
      },
      "execution_count": null,
      "outputs": []
    },
    {
      "cell_type": "code",
      "source": [
        "#final"
      ],
      "metadata": {
        "colab": {
          "base_uri": "https://localhost:8080/",
          "height": 424
        },
        "id": "m_bvxaRoybhL",
        "outputId": "a532153f-c517-4f75-d2f2-f154e55519fc"
      },
      "execution_count": null,
      "outputs": [
        {
          "output_type": "execute_result",
          "data": {
            "text/plain": [
              "          id    status_group\n",
              "0      50785      functional\n",
              "1      51630      functional\n",
              "2      17168      functional\n",
              "3      45559  non functional\n",
              "4      49871      functional\n",
              "...      ...             ...\n",
              "14845  39307  non functional\n",
              "14846  18990      functional\n",
              "14847  28749      functional\n",
              "14848  33492      functional\n",
              "14849  68707  non functional\n",
              "\n",
              "[14850 rows x 2 columns]"
            ],
            "text/html": [
              "\n",
              "  <div id=\"df-c5884259-70d1-41de-81b2-3d5c959c985e\" class=\"colab-df-container\">\n",
              "    <div>\n",
              "<style scoped>\n",
              "    .dataframe tbody tr th:only-of-type {\n",
              "        vertical-align: middle;\n",
              "    }\n",
              "\n",
              "    .dataframe tbody tr th {\n",
              "        vertical-align: top;\n",
              "    }\n",
              "\n",
              "    .dataframe thead th {\n",
              "        text-align: right;\n",
              "    }\n",
              "</style>\n",
              "<table border=\"1\" class=\"dataframe\">\n",
              "  <thead>\n",
              "    <tr style=\"text-align: right;\">\n",
              "      <th></th>\n",
              "      <th>id</th>\n",
              "      <th>status_group</th>\n",
              "    </tr>\n",
              "  </thead>\n",
              "  <tbody>\n",
              "    <tr>\n",
              "      <th>0</th>\n",
              "      <td>50785</td>\n",
              "      <td>functional</td>\n",
              "    </tr>\n",
              "    <tr>\n",
              "      <th>1</th>\n",
              "      <td>51630</td>\n",
              "      <td>functional</td>\n",
              "    </tr>\n",
              "    <tr>\n",
              "      <th>2</th>\n",
              "      <td>17168</td>\n",
              "      <td>functional</td>\n",
              "    </tr>\n",
              "    <tr>\n",
              "      <th>3</th>\n",
              "      <td>45559</td>\n",
              "      <td>non functional</td>\n",
              "    </tr>\n",
              "    <tr>\n",
              "      <th>4</th>\n",
              "      <td>49871</td>\n",
              "      <td>functional</td>\n",
              "    </tr>\n",
              "    <tr>\n",
              "      <th>...</th>\n",
              "      <td>...</td>\n",
              "      <td>...</td>\n",
              "    </tr>\n",
              "    <tr>\n",
              "      <th>14845</th>\n",
              "      <td>39307</td>\n",
              "      <td>non functional</td>\n",
              "    </tr>\n",
              "    <tr>\n",
              "      <th>14846</th>\n",
              "      <td>18990</td>\n",
              "      <td>functional</td>\n",
              "    </tr>\n",
              "    <tr>\n",
              "      <th>14847</th>\n",
              "      <td>28749</td>\n",
              "      <td>functional</td>\n",
              "    </tr>\n",
              "    <tr>\n",
              "      <th>14848</th>\n",
              "      <td>33492</td>\n",
              "      <td>functional</td>\n",
              "    </tr>\n",
              "    <tr>\n",
              "      <th>14849</th>\n",
              "      <td>68707</td>\n",
              "      <td>non functional</td>\n",
              "    </tr>\n",
              "  </tbody>\n",
              "</table>\n",
              "<p>14850 rows × 2 columns</p>\n",
              "</div>\n",
              "    <div class=\"colab-df-buttons\">\n",
              "\n",
              "  <div class=\"colab-df-container\">\n",
              "    <button class=\"colab-df-convert\" onclick=\"convertToInteractive('df-c5884259-70d1-41de-81b2-3d5c959c985e')\"\n",
              "            title=\"Convert this dataframe to an interactive table.\"\n",
              "            style=\"display:none;\">\n",
              "\n",
              "  <svg xmlns=\"http://www.w3.org/2000/svg\" height=\"24px\" viewBox=\"0 -960 960 960\">\n",
              "    <path d=\"M120-120v-720h720v720H120Zm60-500h600v-160H180v160Zm220 220h160v-160H400v160Zm0 220h160v-160H400v160ZM180-400h160v-160H180v160Zm440 0h160v-160H620v160ZM180-180h160v-160H180v160Zm440 0h160v-160H620v160Z\"/>\n",
              "  </svg>\n",
              "    </button>\n",
              "\n",
              "  <style>\n",
              "    .colab-df-container {\n",
              "      display:flex;\n",
              "      gap: 12px;\n",
              "    }\n",
              "\n",
              "    .colab-df-convert {\n",
              "      background-color: #E8F0FE;\n",
              "      border: none;\n",
              "      border-radius: 50%;\n",
              "      cursor: pointer;\n",
              "      display: none;\n",
              "      fill: #1967D2;\n",
              "      height: 32px;\n",
              "      padding: 0 0 0 0;\n",
              "      width: 32px;\n",
              "    }\n",
              "\n",
              "    .colab-df-convert:hover {\n",
              "      background-color: #E2EBFA;\n",
              "      box-shadow: 0px 1px 2px rgba(60, 64, 67, 0.3), 0px 1px 3px 1px rgba(60, 64, 67, 0.15);\n",
              "      fill: #174EA6;\n",
              "    }\n",
              "\n",
              "    .colab-df-buttons div {\n",
              "      margin-bottom: 4px;\n",
              "    }\n",
              "\n",
              "    [theme=dark] .colab-df-convert {\n",
              "      background-color: #3B4455;\n",
              "      fill: #D2E3FC;\n",
              "    }\n",
              "\n",
              "    [theme=dark] .colab-df-convert:hover {\n",
              "      background-color: #434B5C;\n",
              "      box-shadow: 0px 1px 3px 1px rgba(0, 0, 0, 0.15);\n",
              "      filter: drop-shadow(0px 1px 2px rgba(0, 0, 0, 0.3));\n",
              "      fill: #FFFFFF;\n",
              "    }\n",
              "  </style>\n",
              "\n",
              "    <script>\n",
              "      const buttonEl =\n",
              "        document.querySelector('#df-c5884259-70d1-41de-81b2-3d5c959c985e button.colab-df-convert');\n",
              "      buttonEl.style.display =\n",
              "        google.colab.kernel.accessAllowed ? 'block' : 'none';\n",
              "\n",
              "      async function convertToInteractive(key) {\n",
              "        const element = document.querySelector('#df-c5884259-70d1-41de-81b2-3d5c959c985e');\n",
              "        const dataTable =\n",
              "          await google.colab.kernel.invokeFunction('convertToInteractive',\n",
              "                                                    [key], {});\n",
              "        if (!dataTable) return;\n",
              "\n",
              "        const docLinkHtml = 'Like what you see? Visit the ' +\n",
              "          '<a target=\"_blank\" href=https://colab.research.google.com/notebooks/data_table.ipynb>data table notebook</a>'\n",
              "          + ' to learn more about interactive tables.';\n",
              "        element.innerHTML = '';\n",
              "        dataTable['output_type'] = 'display_data';\n",
              "        await google.colab.output.renderOutput(dataTable, element);\n",
              "        const docLink = document.createElement('div');\n",
              "        docLink.innerHTML = docLinkHtml;\n",
              "        element.appendChild(docLink);\n",
              "      }\n",
              "    </script>\n",
              "  </div>\n",
              "\n",
              "\n",
              "<div id=\"df-adb32931-d4a3-4e46-91cc-c2c1dc7309aa\">\n",
              "  <button class=\"colab-df-quickchart\" onclick=\"quickchart('df-adb32931-d4a3-4e46-91cc-c2c1dc7309aa')\"\n",
              "            title=\"Suggest charts\"\n",
              "            style=\"display:none;\">\n",
              "\n",
              "<svg xmlns=\"http://www.w3.org/2000/svg\" height=\"24px\"viewBox=\"0 0 24 24\"\n",
              "     width=\"24px\">\n",
              "    <g>\n",
              "        <path d=\"M19 3H5c-1.1 0-2 .9-2 2v14c0 1.1.9 2 2 2h14c1.1 0 2-.9 2-2V5c0-1.1-.9-2-2-2zM9 17H7v-7h2v7zm4 0h-2V7h2v10zm4 0h-2v-4h2v4z\"/>\n",
              "    </g>\n",
              "</svg>\n",
              "  </button>\n",
              "\n",
              "<style>\n",
              "  .colab-df-quickchart {\n",
              "      --bg-color: #E8F0FE;\n",
              "      --fill-color: #1967D2;\n",
              "      --hover-bg-color: #E2EBFA;\n",
              "      --hover-fill-color: #174EA6;\n",
              "      --disabled-fill-color: #AAA;\n",
              "      --disabled-bg-color: #DDD;\n",
              "  }\n",
              "\n",
              "  [theme=dark] .colab-df-quickchart {\n",
              "      --bg-color: #3B4455;\n",
              "      --fill-color: #D2E3FC;\n",
              "      --hover-bg-color: #434B5C;\n",
              "      --hover-fill-color: #FFFFFF;\n",
              "      --disabled-bg-color: #3B4455;\n",
              "      --disabled-fill-color: #666;\n",
              "  }\n",
              "\n",
              "  .colab-df-quickchart {\n",
              "    background-color: var(--bg-color);\n",
              "    border: none;\n",
              "    border-radius: 50%;\n",
              "    cursor: pointer;\n",
              "    display: none;\n",
              "    fill: var(--fill-color);\n",
              "    height: 32px;\n",
              "    padding: 0;\n",
              "    width: 32px;\n",
              "  }\n",
              "\n",
              "  .colab-df-quickchart:hover {\n",
              "    background-color: var(--hover-bg-color);\n",
              "    box-shadow: 0 1px 2px rgba(60, 64, 67, 0.3), 0 1px 3px 1px rgba(60, 64, 67, 0.15);\n",
              "    fill: var(--button-hover-fill-color);\n",
              "  }\n",
              "\n",
              "  .colab-df-quickchart-complete:disabled,\n",
              "  .colab-df-quickchart-complete:disabled:hover {\n",
              "    background-color: var(--disabled-bg-color);\n",
              "    fill: var(--disabled-fill-color);\n",
              "    box-shadow: none;\n",
              "  }\n",
              "\n",
              "  .colab-df-spinner {\n",
              "    border: 2px solid var(--fill-color);\n",
              "    border-color: transparent;\n",
              "    border-bottom-color: var(--fill-color);\n",
              "    animation:\n",
              "      spin 1s steps(1) infinite;\n",
              "  }\n",
              "\n",
              "  @keyframes spin {\n",
              "    0% {\n",
              "      border-color: transparent;\n",
              "      border-bottom-color: var(--fill-color);\n",
              "      border-left-color: var(--fill-color);\n",
              "    }\n",
              "    20% {\n",
              "      border-color: transparent;\n",
              "      border-left-color: var(--fill-color);\n",
              "      border-top-color: var(--fill-color);\n",
              "    }\n",
              "    30% {\n",
              "      border-color: transparent;\n",
              "      border-left-color: var(--fill-color);\n",
              "      border-top-color: var(--fill-color);\n",
              "      border-right-color: var(--fill-color);\n",
              "    }\n",
              "    40% {\n",
              "      border-color: transparent;\n",
              "      border-right-color: var(--fill-color);\n",
              "      border-top-color: var(--fill-color);\n",
              "    }\n",
              "    60% {\n",
              "      border-color: transparent;\n",
              "      border-right-color: var(--fill-color);\n",
              "    }\n",
              "    80% {\n",
              "      border-color: transparent;\n",
              "      border-right-color: var(--fill-color);\n",
              "      border-bottom-color: var(--fill-color);\n",
              "    }\n",
              "    90% {\n",
              "      border-color: transparent;\n",
              "      border-bottom-color: var(--fill-color);\n",
              "    }\n",
              "  }\n",
              "</style>\n",
              "\n",
              "  <script>\n",
              "    async function quickchart(key) {\n",
              "      const quickchartButtonEl =\n",
              "        document.querySelector('#' + key + ' button');\n",
              "      quickchartButtonEl.disabled = true;  // To prevent multiple clicks.\n",
              "      quickchartButtonEl.classList.add('colab-df-spinner');\n",
              "      try {\n",
              "        const charts = await google.colab.kernel.invokeFunction(\n",
              "            'suggestCharts', [key], {});\n",
              "      } catch (error) {\n",
              "        console.error('Error during call to suggestCharts:', error);\n",
              "      }\n",
              "      quickchartButtonEl.classList.remove('colab-df-spinner');\n",
              "      quickchartButtonEl.classList.add('colab-df-quickchart-complete');\n",
              "    }\n",
              "    (() => {\n",
              "      let quickchartButtonEl =\n",
              "        document.querySelector('#df-adb32931-d4a3-4e46-91cc-c2c1dc7309aa button');\n",
              "      quickchartButtonEl.style.display =\n",
              "        google.colab.kernel.accessAllowed ? 'block' : 'none';\n",
              "    })();\n",
              "  </script>\n",
              "</div>\n",
              "\n",
              "  <div id=\"id_4ab9731a-31c7-43cc-b97f-cb1fa77b722f\">\n",
              "    <style>\n",
              "      .colab-df-generate {\n",
              "        background-color: #E8F0FE;\n",
              "        border: none;\n",
              "        border-radius: 50%;\n",
              "        cursor: pointer;\n",
              "        display: none;\n",
              "        fill: #1967D2;\n",
              "        height: 32px;\n",
              "        padding: 0 0 0 0;\n",
              "        width: 32px;\n",
              "      }\n",
              "\n",
              "      .colab-df-generate:hover {\n",
              "        background-color: #E2EBFA;\n",
              "        box-shadow: 0px 1px 2px rgba(60, 64, 67, 0.3), 0px 1px 3px 1px rgba(60, 64, 67, 0.15);\n",
              "        fill: #174EA6;\n",
              "      }\n",
              "\n",
              "      [theme=dark] .colab-df-generate {\n",
              "        background-color: #3B4455;\n",
              "        fill: #D2E3FC;\n",
              "      }\n",
              "\n",
              "      [theme=dark] .colab-df-generate:hover {\n",
              "        background-color: #434B5C;\n",
              "        box-shadow: 0px 1px 3px 1px rgba(0, 0, 0, 0.15);\n",
              "        filter: drop-shadow(0px 1px 2px rgba(0, 0, 0, 0.3));\n",
              "        fill: #FFFFFF;\n",
              "      }\n",
              "    </style>\n",
              "    <button class=\"colab-df-generate\" onclick=\"generateWithVariable('final')\"\n",
              "            title=\"Generate code using this dataframe.\"\n",
              "            style=\"display:none;\">\n",
              "\n",
              "  <svg xmlns=\"http://www.w3.org/2000/svg\" height=\"24px\"viewBox=\"0 0 24 24\"\n",
              "       width=\"24px\">\n",
              "    <path d=\"M7,19H8.4L18.45,9,17,7.55,7,17.6ZM5,21V16.75L18.45,3.32a2,2,0,0,1,2.83,0l1.4,1.43a1.91,1.91,0,0,1,.58,1.4,1.91,1.91,0,0,1-.58,1.4L9.25,21ZM18.45,9,17,7.55Zm-12,3A5.31,5.31,0,0,0,4.9,8.1,5.31,5.31,0,0,0,1,6.5,5.31,5.31,0,0,0,4.9,4.9,5.31,5.31,0,0,0,6.5,1,5.31,5.31,0,0,0,8.1,4.9,5.31,5.31,0,0,0,12,6.5,5.46,5.46,0,0,0,6.5,12Z\"/>\n",
              "  </svg>\n",
              "    </button>\n",
              "    <script>\n",
              "      (() => {\n",
              "      const buttonEl =\n",
              "        document.querySelector('#id_4ab9731a-31c7-43cc-b97f-cb1fa77b722f button.colab-df-generate');\n",
              "      buttonEl.style.display =\n",
              "        google.colab.kernel.accessAllowed ? 'block' : 'none';\n",
              "\n",
              "      buttonEl.onclick = () => {\n",
              "        google.colab.notebook.generateWithVariable('final');\n",
              "      }\n",
              "      })();\n",
              "    </script>\n",
              "  </div>\n",
              "\n",
              "    </div>\n",
              "  </div>\n"
            ]
          },
          "metadata": {},
          "execution_count": 31
        }
      ]
    },
    {
      "cell_type": "code",
      "source": [],
      "metadata": {
        "id": "-hn6vvdA1X67"
      },
      "execution_count": null,
      "outputs": []
    }
  ],
  "metadata": {
    "accelerator": "GPU",
    "colab": {
      "provenance": [],
      "gpuType": "T4",
      "include_colab_link": true
    },
    "kernelspec": {
      "display_name": "Python 3",
      "name": "python3"
    },
    "language_info": {
      "name": "python"
    }
  },
  "nbformat": 4,
  "nbformat_minor": 0
}